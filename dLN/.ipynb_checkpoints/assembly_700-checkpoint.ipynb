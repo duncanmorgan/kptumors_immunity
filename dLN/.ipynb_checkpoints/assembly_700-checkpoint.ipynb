{
 "cells": [
  {
   "cell_type": "code",
   "execution_count": null,
   "metadata": {},
   "outputs": [],
   "source": [
    "import pandas as pd\n",
    "import numpy as np\n",
    "import os\n",
    "import time\n",
    "import matplotlib.pyplot as plt\n",
    "import matplotlib.backends\n",
    "from matplotlib.backends.backend_pdf import PdfPages\n",
    "from sklearn import linear_model\n",
    "import anndata as an\n",
    "import scipy\n",
    "\n"
   ]
  },
  {
   "cell_type": "code",
   "execution_count": null,
   "metadata": {},
   "outputs": [],
   "source": [
    "# Enter the name of your input file here\n",
    "inputFile = \"seurat.txt\"\n",
    "# Input parameters\n",
    "nGene = 300\n",
    "nCell = 3\n",
    "\n",
    "try:\n",
    "    os.stat(\"ComplexityPlots\")\n",
    "except:\n",
    "    os.mkdir(\"ComplexityPlots\")\n",
    "    \n",
    "# Read in DGE Files    \n",
    "fileNames = pd.read_csv(inputFile, sep = \"\\t\")\n",
    "fileNames"
   ]
  },
  {
   "cell_type": "code",
   "execution_count": null,
   "metadata": {},
   "outputs": [],
   "source": [
    "tic = time.time()\n",
    "first = True\n",
    "for i in range(0,8):\n",
    "        \n",
    "    # read and print sample name\n",
    "    sampName = str(fileNames.Sample.iloc[i])\n",
    "    print(sampName)\n",
    "        \n",
    "    # read in DGE and readCounts files, calculate nUMI\n",
    "    cells = pd.read_csv(fileNames.values[i,1], index_col = 0, header = 0, delim_whitespace = True)\n",
    "    nUMIs = cells.sum(axis = 0)\n",
    "    readCounts = pd.read_csv(fileNames.values[i,2], index_col = 0, header = 0, delim_whitespace = True)\n",
    "    readCounts = readCounts.reindex(index = list(cells))\n",
    "    cells = cells.loc[~cells.index.duplicated(),:]    \n",
    "    cells\n",
    "        \n",
    "    # plotting \n",
    "    spam = plt.figure()\n",
    "    plt.rcParams['figure.figsize'] = [7,8]\n",
    "    plt.plot(readCounts['ExonReads'], nUMIs, 'ko')\n",
    "    plt.xlabel('Total Reads')\n",
    "    plt.ylabel('Number of UMIs')\n",
    "    plt.title(str(sampName) + \" Complexity\")  \n",
    "    regr = linear_model.LinearRegression()\n",
    "    regr.fit(X = nUMIs.values.reshape(-1,1), y = readCounts['ExonReads'].values)\n",
    "    plt.plot(X = nUMIs.values.reshape(-1,1), Y = regr.predict(nUMIs.values.reshape(-1,1)))\n",
    "    c = np.array2string(regr.coef_[0])\n",
    "    plt.annotate(\"Complexity = \" + c, (0,plt.ylim()[1]*.95))\n",
    "    plt.savefig(fname = \"ComplexityPlots/\" + str(sampName) + '.png')\n",
    "    plt.close()\n",
    "        \n",
    "    # filter by nGene\n",
    "    keepcells = (cells.values>0).sum(axis = 0) > nGene\n",
    "    keepgenes = (cells.values > 0).sum(axis = 1) > nCell\n",
    "    cells = cells.loc[keepgenes, keepcells]\n",
    "        \n",
    "    readCounts = readCounts[:][keepcells]\n",
    "    n = cells.shape[1]\n",
    "\n",
    "    # rename columns of data frame to prevent barcode collisions\n",
    "    identsadd = [sampName]*n\n",
    "    index = [identsadd[i] + \"_\" + str(i) for i in range(0, len(identsadd))]\n",
    "    cells.columns = index\n",
    "    bcs = readCounts.index.values\n",
    "    print(len(bcs))\n",
    "    \n",
    "    if first:\n",
    "        cellsAll = cells.copy()\n",
    "        readCountsAll = readCounts.copy()\n",
    "        bcsAll= bcs.copy()\n",
    "        first = False\n",
    "        idents_all = identsadd\n",
    "\n",
    "    else:\n",
    "        cellsAll = pd.DataFrame.join(cellsAll, cells, how = 'outer')\n",
    "        readCountsAll = readCountsAll.append(readCounts)\n",
    "        bcsAll = np.append(bcsAll, bcs)\n",
    "        idents_all = np.append(idents_all, identsadd)\n",
    "        \n",
    "toc = time.time()\n",
    "print(toc - tic)\n",
    "cellsAll = cellsAll.fillna(0)\n",
    "cellsAll = cellsAll.reset_index()\n",
    "\n"
   ]
  },
  {
   "cell_type": "code",
   "execution_count": null,
   "metadata": {},
   "outputs": [],
   "source": [
    "import pyarrow.feather\n",
    "pyarrow.feather.write_feather(cellsAll, 'allcellsAll.feather')  \n",
    "pyarrow.feather.write_feather(readCountsAll, 'allreadCountsAll.feather')\n",
    "np.savetxt('allbcs.txt', bcsAll, fmt = \"%s\")"
   ]
  },
  {
   "cell_type": "code",
   "execution_count": null,
   "metadata": {},
   "outputs": [],
   "source": [
    "import sys\n",
    "sys.path.append('../../')\n",
    "from functions import *\n",
    "\n",
    "# read in and fix data\n",
    "cells = pd.read_feather('allcellsAll.feather')\n",
    "cells.index = cells.loc[:, 'Gene']\n",
    "cells = cells.drop('Gene', axis = 1)"
   ]
  },
  {
   "cell_type": "code",
   "execution_count": null,
   "metadata": {},
   "outputs": [],
   "source": [
    "# SCANPY\n",
    "sc.settings.verbosity = 4\n",
    "adata = an.AnnData(cells.values.transpose())\n",
    "adata.var_names = cells.index\n",
    "adata.obs_names = cells.columns\n",
    "bcs = np.loadtxt('allbcs.txt', dtype = str)\n",
    "adata.obs['orig'] =[x.split('_')[0] for x in adata.obs_names]\n",
    "adata.obs['bc']= bcs\n",
    "adata.obs_names_make_unique()\n",
    "adata.var_names_make_unique()\n",
    "adata\n",
    "sc.pp.filter_genes(adata, min_cells = 3)\n",
    "sc.pp.filter_cells(adata, min_genes = 300)\n",
    "print(adata)\n",
    "\n",
    "sc.pp.normalize_per_cell(adata, counts_per_cell_after=1e4)\n",
    "sc.pp.log1p(adata)\n",
    "adata.raw = adata\n",
    "\n",
    "adata = process(adata)\n"
   ]
  },
  {
   "cell_type": "code",
   "execution_count": null,
   "metadata": {},
   "outputs": [],
   "source": [
    "metadata = pd.read_csv('metadata.csv', index_col = 0)\n",
    "adata.obs['location'] = [metadata.Location.loc[x] for x in adata.obs.orig]\n",
    "adata.obs['condition'] = [metadata.Condition.loc[x] for x in adata.obs.orig]\n"
   ]
  },
  {
   "cell_type": "code",
   "execution_count": null,
   "metadata": {},
   "outputs": [],
   "source": [
    "sc.pl.umap(adata, size = 100, color = ['location', 'condition'])"
   ]
  },
  {
   "cell_type": "code",
   "execution_count": null,
   "metadata": {},
   "outputs": [],
   "source": [
    "import pyarrow.feather\n",
    "def seuratExport(adata, fname):\n",
    "    df = pd.DataFrame(adata.raw.X.transpose())\n",
    "    df.columns = adata.obs_names\n",
    "    df.index = adata.raw.var_names\n",
    "    df = df.reset_index()\n",
    "    pyarrow.feather.write_feather(df, fname + '.feather') \n",
    "    adata.obs.to_csv(fname + '_meta.txt')\n",
    "    \n",
    "seuratExport(adata, 'treg_ln1')\n"
   ]
  }
 ],
 "metadata": {
  "kernelspec": {
   "display_name": "Python 3",
   "language": "python",
   "name": "python3"
  },
  "language_info": {
   "codemirror_mode": {
    "name": "ipython",
    "version": 3
   },
   "file_extension": ".py",
   "mimetype": "text/x-python",
   "name": "python",
   "nbconvert_exporter": "python",
   "pygments_lexer": "ipython3",
   "version": "3.7.3"
  }
 },
 "nbformat": 4,
 "nbformat_minor": 4
}
