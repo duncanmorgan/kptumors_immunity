{
 "cells": [
  {
   "cell_type": "code",
   "execution_count": 1,
   "metadata": {},
   "outputs": [
    {
     "name": "stderr",
     "output_type": "stream",
     "text": [
      "Attaching SeuratObject\n",
      "\n"
     ]
    }
   ],
   "source": [
    "library(Seurat)\n",
    "seurat = readRDS('../initialSeurat.RDS')"
   ]
  },
  {
   "cell_type": "code",
   "execution_count": 2,
   "metadata": {},
   "outputs": [
    {
     "name": "stderr",
     "output_type": "stream",
     "text": [
      "Updating from v2.X to v3.X\n",
      "\n",
      "Validating object structure\n",
      "\n",
      "Updating object slots\n",
      "\n",
      "Ensuring keys are in the proper strucutre\n",
      "\n",
      "Ensuring feature names don't have underscores or pipes\n",
      "\n",
      "Object representation is consistent with the most current Seurat version\n",
      "\n"
     ]
    }
   ],
   "source": [
    "seurat = UpdateSeuratObject(seurat)"
   ]
  },
  {
   "cell_type": "code",
   "execution_count": 3,
   "metadata": {},
   "outputs": [],
   "source": [
    "seurat@meta.data$letter = substring(seurat@meta.data$orig, 1, 1)\n",
    "groupA = seurat@meta.data[seurat@meta.data$letter %in% c('A', 'B', 'C', 'D', 'E'),]\n",
    "groupB = seurat@meta.data[seurat@meta.data$letter %in% c('O', 'P'),]\n",
    "\n",
    "write.table(groupA, quote = FALSE, 'groupA.csv', sep = ',')\n",
    "write.table(groupB, quote = FALSE, 'groupB.csv', sep = ',')"
   ]
  },
  {
   "cell_type": "code",
   "execution_count": 4,
   "metadata": {},
   "outputs": [
    {
     "data": {
      "text/html": [
       "<table class=\"dataframe\">\n",
       "<caption>A data.frame: 6 × 17</caption>\n",
       "<thead>\n",
       "\t<tr><th></th><th scope=col>orig</th><th scope=col>bc</th><th scope=col>n_genes</th><th scope=col>n_counts</th><th scope=col>leiden</th><th scope=col>id</th><th scope=col>location</th><th scope=col>tissue</th><th scope=col>treatment</th><th scope=col>UMAP1</th><th scope=col>UMAP2</th><th scope=col>temp</th><th scope=col>loc</th><th scope=col>ci</th><th scope=col>nCount_RNA</th><th scope=col>nFeature_RNA</th><th scope=col>letter</th></tr>\n",
       "\t<tr><th></th><th scope=col>&lt;chr&gt;</th><th scope=col>&lt;chr&gt;</th><th scope=col>&lt;int&gt;</th><th scope=col>&lt;dbl&gt;</th><th scope=col>&lt;int&gt;</th><th scope=col>&lt;chr&gt;</th><th scope=col>&lt;chr&gt;</th><th scope=col>&lt;chr&gt;</th><th scope=col>&lt;chr&gt;</th><th scope=col>&lt;dbl&gt;</th><th scope=col>&lt;dbl&gt;</th><th scope=col>&lt;chr&gt;</th><th scope=col>&lt;chr&gt;</th><th scope=col>&lt;chr&gt;</th><th scope=col>&lt;dbl&gt;</th><th scope=col>&lt;int&gt;</th><th scope=col>&lt;chr&gt;</th></tr>\n",
       "</thead>\n",
       "<tbody>\n",
       "\t<tr><th scope=row>A2_0</th><td>A2</td><td>AAATTCCGCTCT</td><td>2675</td><td>7363</td><td> 4</td><td>A2AAATTCCGCTCT</td><td>Flank</td><td>Tumor</td><td>Day 7</td><td>-5.9639120</td><td>-0.6112297</td><td>Day 7</td><td>Lung</td><td>Lung Day 7</td><td>7364</td><td>2676</td><td>A</td></tr>\n",
       "\t<tr><th scope=row>A2_1</th><td>A2</td><td>AACTAACCACGC</td><td> 341</td><td> 449</td><td>11</td><td>A2AACTAACCACGC</td><td>Flank</td><td>Tumor</td><td>Day 7</td><td>-0.6154963</td><td>-1.3722502</td><td>Day 7</td><td>Lung</td><td>Lung Day 7</td><td> 470</td><td> 350</td><td>A</td></tr>\n",
       "\t<tr><th scope=row>A2_2</th><td>A2</td><td>AACTGGGACGGG</td><td>1050</td><td>2487</td><td> 4</td><td>A2AACTGGGACGGG</td><td>Flank</td><td>Tumor</td><td>Day 7</td><td>-6.8264060</td><td>-0.1471494</td><td>Day 7</td><td>Lung</td><td>Lung Day 7</td><td>2489</td><td>1052</td><td>A</td></tr>\n",
       "\t<tr><th scope=row>A2_3</th><td>A2</td><td>AATCTCTGCAGC</td><td>1660</td><td>3849</td><td>10</td><td>A2AATCTCTGCAGC</td><td>Flank</td><td>Tumor</td><td>Day 7</td><td>-4.2245293</td><td> 2.6588740</td><td>Day 7</td><td>Lung</td><td>Lung Day 7</td><td>3850</td><td>1661</td><td>A</td></tr>\n",
       "\t<tr><th scope=row>A2_4</th><td>A2</td><td>AATCTGACATTT</td><td>2143</td><td>6695</td><td>10</td><td>A2AATCTGACATTT</td><td>Flank</td><td>Tumor</td><td>Day 7</td><td>-5.7860518</td><td> 1.3755637</td><td>Day 7</td><td>Lung</td><td>Lung Day 7</td><td>6696</td><td>2144</td><td>A</td></tr>\n",
       "\t<tr><th scope=row>A2_5</th><td>A2</td><td>AATTGAAACTAA</td><td>1337</td><td>3712</td><td>10</td><td>A2AATTGAAACTAA</td><td>Flank</td><td>Tumor</td><td>Day 7</td><td> 1.6180286</td><td> 5.0777531</td><td>Day 7</td><td>Lung</td><td>Lung Day 7</td><td>3713</td><td>1338</td><td>A</td></tr>\n",
       "</tbody>\n",
       "</table>\n"
      ],
      "text/latex": [
       "A data.frame: 6 × 17\n",
       "\\begin{tabular}{r|lllllllllllllllll}\n",
       "  & orig & bc & n\\_genes & n\\_counts & leiden & id & location & tissue & treatment & UMAP1 & UMAP2 & temp & loc & ci & nCount\\_RNA & nFeature\\_RNA & letter\\\\\n",
       "  & <chr> & <chr> & <int> & <dbl> & <int> & <chr> & <chr> & <chr> & <chr> & <dbl> & <dbl> & <chr> & <chr> & <chr> & <dbl> & <int> & <chr>\\\\\n",
       "\\hline\n",
       "\tA2\\_0 & A2 & AAATTCCGCTCT & 2675 & 7363 &  4 & A2AAATTCCGCTCT & Flank & Tumor & Day 7 & -5.9639120 & -0.6112297 & Day 7 & Lung & Lung Day 7 & 7364 & 2676 & A\\\\\n",
       "\tA2\\_1 & A2 & AACTAACCACGC &  341 &  449 & 11 & A2AACTAACCACGC & Flank & Tumor & Day 7 & -0.6154963 & -1.3722502 & Day 7 & Lung & Lung Day 7 &  470 &  350 & A\\\\\n",
       "\tA2\\_2 & A2 & AACTGGGACGGG & 1050 & 2487 &  4 & A2AACTGGGACGGG & Flank & Tumor & Day 7 & -6.8264060 & -0.1471494 & Day 7 & Lung & Lung Day 7 & 2489 & 1052 & A\\\\\n",
       "\tA2\\_3 & A2 & AATCTCTGCAGC & 1660 & 3849 & 10 & A2AATCTCTGCAGC & Flank & Tumor & Day 7 & -4.2245293 &  2.6588740 & Day 7 & Lung & Lung Day 7 & 3850 & 1661 & A\\\\\n",
       "\tA2\\_4 & A2 & AATCTGACATTT & 2143 & 6695 & 10 & A2AATCTGACATTT & Flank & Tumor & Day 7 & -5.7860518 &  1.3755637 & Day 7 & Lung & Lung Day 7 & 6696 & 2144 & A\\\\\n",
       "\tA2\\_5 & A2 & AATTGAAACTAA & 1337 & 3712 & 10 & A2AATTGAAACTAA & Flank & Tumor & Day 7 &  1.6180286 &  5.0777531 & Day 7 & Lung & Lung Day 7 & 3713 & 1338 & A\\\\\n",
       "\\end{tabular}\n"
      ],
      "text/markdown": [
       "\n",
       "A data.frame: 6 × 17\n",
       "\n",
       "| <!--/--> | orig &lt;chr&gt; | bc &lt;chr&gt; | n_genes &lt;int&gt; | n_counts &lt;dbl&gt; | leiden &lt;int&gt; | id &lt;chr&gt; | location &lt;chr&gt; | tissue &lt;chr&gt; | treatment &lt;chr&gt; | UMAP1 &lt;dbl&gt; | UMAP2 &lt;dbl&gt; | temp &lt;chr&gt; | loc &lt;chr&gt; | ci &lt;chr&gt; | nCount_RNA &lt;dbl&gt; | nFeature_RNA &lt;int&gt; | letter &lt;chr&gt; |\n",
       "|---|---|---|---|---|---|---|---|---|---|---|---|---|---|---|---|---|---|\n",
       "| A2_0 | A2 | AAATTCCGCTCT | 2675 | 7363 |  4 | A2AAATTCCGCTCT | Flank | Tumor | Day 7 | -5.9639120 | -0.6112297 | Day 7 | Lung | Lung Day 7 | 7364 | 2676 | A |\n",
       "| A2_1 | A2 | AACTAACCACGC |  341 |  449 | 11 | A2AACTAACCACGC | Flank | Tumor | Day 7 | -0.6154963 | -1.3722502 | Day 7 | Lung | Lung Day 7 |  470 |  350 | A |\n",
       "| A2_2 | A2 | AACTGGGACGGG | 1050 | 2487 |  4 | A2AACTGGGACGGG | Flank | Tumor | Day 7 | -6.8264060 | -0.1471494 | Day 7 | Lung | Lung Day 7 | 2489 | 1052 | A |\n",
       "| A2_3 | A2 | AATCTCTGCAGC | 1660 | 3849 | 10 | A2AATCTCTGCAGC | Flank | Tumor | Day 7 | -4.2245293 |  2.6588740 | Day 7 | Lung | Lung Day 7 | 3850 | 1661 | A |\n",
       "| A2_4 | A2 | AATCTGACATTT | 2143 | 6695 | 10 | A2AATCTGACATTT | Flank | Tumor | Day 7 | -5.7860518 |  1.3755637 | Day 7 | Lung | Lung Day 7 | 6696 | 2144 | A |\n",
       "| A2_5 | A2 | AATTGAAACTAA | 1337 | 3712 | 10 | A2AATTGAAACTAA | Flank | Tumor | Day 7 |  1.6180286 |  5.0777531 | Day 7 | Lung | Lung Day 7 | 3713 | 1338 | A |\n",
       "\n"
      ],
      "text/plain": [
       "     orig bc           n_genes n_counts leiden id             location tissue\n",
       "A2_0 A2   AAATTCCGCTCT 2675    7363      4     A2AAATTCCGCTCT Flank    Tumor \n",
       "A2_1 A2   AACTAACCACGC  341     449     11     A2AACTAACCACGC Flank    Tumor \n",
       "A2_2 A2   AACTGGGACGGG 1050    2487      4     A2AACTGGGACGGG Flank    Tumor \n",
       "A2_3 A2   AATCTCTGCAGC 1660    3849     10     A2AATCTCTGCAGC Flank    Tumor \n",
       "A2_4 A2   AATCTGACATTT 2143    6695     10     A2AATCTGACATTT Flank    Tumor \n",
       "A2_5 A2   AATTGAAACTAA 1337    3712     10     A2AATTGAAACTAA Flank    Tumor \n",
       "     treatment UMAP1      UMAP2      temp  loc  ci         nCount_RNA\n",
       "A2_0 Day 7     -5.9639120 -0.6112297 Day 7 Lung Lung Day 7 7364      \n",
       "A2_1 Day 7     -0.6154963 -1.3722502 Day 7 Lung Lung Day 7  470      \n",
       "A2_2 Day 7     -6.8264060 -0.1471494 Day 7 Lung Lung Day 7 2489      \n",
       "A2_3 Day 7     -4.2245293  2.6588740 Day 7 Lung Lung Day 7 3850      \n",
       "A2_4 Day 7     -5.7860518  1.3755637 Day 7 Lung Lung Day 7 6696      \n",
       "A2_5 Day 7      1.6180286  5.0777531 Day 7 Lung Lung Day 7 3713      \n",
       "     nFeature_RNA letter\n",
       "A2_0 2676         A     \n",
       "A2_1  350         A     \n",
       "A2_2 1052         A     \n",
       "A2_3 1661         A     \n",
       "A2_4 2144         A     \n",
       "A2_5 1338         A     "
      ]
     },
     "metadata": {},
     "output_type": "display_data"
    }
   ],
   "source": [
    "head(seurat@meta.data)"
   ]
  },
  {
   "cell_type": "code",
   "execution_count": 5,
   "metadata": {},
   "outputs": [
    {
     "data": {
      "text/html": [
       "<style>\n",
       ".list-inline {list-style: none; margin:0; padding: 0}\n",
       ".list-inline>li {display: inline-block}\n",
       ".list-inline>li:not(:last-child)::after {content: \"\\00b7\"; padding: 0 .5ex}\n",
       "</style>\n",
       "<ol class=list-inline><li>90920</li><li>12</li></ol>\n"
      ],
      "text/latex": [
       "\\begin{enumerate*}\n",
       "\\item 90920\n",
       "\\item 12\n",
       "\\end{enumerate*}\n"
      ],
      "text/markdown": [
       "1. 90920\n",
       "2. 12\n",
       "\n",
       "\n"
      ],
      "text/plain": [
       "[1] 90920    12"
      ]
     },
     "metadata": {},
     "output_type": "display_data"
    },
    {
     "data": {
      "text/html": [
       "<table class=\"dataframe\">\n",
       "<caption>A data.frame: 6 × 11</caption>\n",
       "<thead>\n",
       "\t<tr><th></th><th scope=col>HTO1.ACCCACCAGTAAGAC</th><th scope=col>HTO2.GGTCGAGAGCATTCA</th><th scope=col>HTO3.CTTGCCGCATGTCAT</th><th scope=col>HTO4.AAAGCATTCTTCACG</th><th scope=col>HTO5.CTTTGTCTTTGTGAG</th><th scope=col>unmapped</th><th scope=col>HTO6.TATGCTGCCACGGTA</th><th scope=col>HTO7.GAGTCTGCCAGTATC</th><th scope=col>HTO8.TATAGAACGCCAGGC</th><th scope=col>HTO9.TGCCTATGAAACAAG</th><th scope=col>HTO10.CCGATTGTAACAGAC</th></tr>\n",
       "\t<tr><th></th><th scope=col>&lt;int&gt;</th><th scope=col>&lt;int&gt;</th><th scope=col>&lt;int&gt;</th><th scope=col>&lt;int&gt;</th><th scope=col>&lt;int&gt;</th><th scope=col>&lt;int&gt;</th><th scope=col>&lt;int&gt;</th><th scope=col>&lt;int&gt;</th><th scope=col>&lt;int&gt;</th><th scope=col>&lt;int&gt;</th><th scope=col>&lt;int&gt;</th></tr>\n",
       "</thead>\n",
       "<tbody>\n",
       "\t<tr><th scope=row>A10AAAAAGTCTAAC</th><td> 18</td><td> 14</td><td>  6</td><td> 11</td><td>238</td><td>48</td><td>NA</td><td>NA</td><td>NA</td><td>NA</td><td>NA</td></tr>\n",
       "\t<tr><th scope=row>A10AAAACTCCCAAC</th><td> 18</td><td> 24</td><td> 12</td><td>183</td><td> 28</td><td>20</td><td>NA</td><td>NA</td><td>NA</td><td>NA</td><td>NA</td></tr>\n",
       "\t<tr><th scope=row>A10AAAACTGCTTAG</th><td> 17</td><td> 29</td><td>272</td><td> 37</td><td> 36</td><td>49</td><td>NA</td><td>NA</td><td>NA</td><td>NA</td><td>NA</td></tr>\n",
       "\t<tr><th scope=row>A10AAAAGAGTGTCT</th><td>174</td><td> 17</td><td>  7</td><td>  8</td><td> 17</td><td>25</td><td>NA</td><td>NA</td><td>NA</td><td>NA</td><td>NA</td></tr>\n",
       "\t<tr><th scope=row>A10AAAAGTCGCCGC</th><td> 19</td><td>318</td><td>  8</td><td> 27</td><td> 45</td><td>46</td><td>NA</td><td>NA</td><td>NA</td><td>NA</td><td>NA</td></tr>\n",
       "\t<tr><th scope=row>A10AAAAGTTCTCCG</th><td> 19</td><td> 19</td><td> 17</td><td> 19</td><td>335</td><td>80</td><td>NA</td><td>NA</td><td>NA</td><td>NA</td><td>NA</td></tr>\n",
       "</tbody>\n",
       "</table>\n"
      ],
      "text/latex": [
       "A data.frame: 6 × 11\n",
       "\\begin{tabular}{r|lllllllllll}\n",
       "  & HTO1.ACCCACCAGTAAGAC & HTO2.GGTCGAGAGCATTCA & HTO3.CTTGCCGCATGTCAT & HTO4.AAAGCATTCTTCACG & HTO5.CTTTGTCTTTGTGAG & unmapped & HTO6.TATGCTGCCACGGTA & HTO7.GAGTCTGCCAGTATC & HTO8.TATAGAACGCCAGGC & HTO9.TGCCTATGAAACAAG & HTO10.CCGATTGTAACAGAC\\\\\n",
       "  & <int> & <int> & <int> & <int> & <int> & <int> & <int> & <int> & <int> & <int> & <int>\\\\\n",
       "\\hline\n",
       "\tA10AAAAAGTCTAAC &  18 &  14 &   6 &  11 & 238 & 48 & NA & NA & NA & NA & NA\\\\\n",
       "\tA10AAAACTCCCAAC &  18 &  24 &  12 & 183 &  28 & 20 & NA & NA & NA & NA & NA\\\\\n",
       "\tA10AAAACTGCTTAG &  17 &  29 & 272 &  37 &  36 & 49 & NA & NA & NA & NA & NA\\\\\n",
       "\tA10AAAAGAGTGTCT & 174 &  17 &   7 &   8 &  17 & 25 & NA & NA & NA & NA & NA\\\\\n",
       "\tA10AAAAGTCGCCGC &  19 & 318 &   8 &  27 &  45 & 46 & NA & NA & NA & NA & NA\\\\\n",
       "\tA10AAAAGTTCTCCG &  19 &  19 &  17 &  19 & 335 & 80 & NA & NA & NA & NA & NA\\\\\n",
       "\\end{tabular}\n"
      ],
      "text/markdown": [
       "\n",
       "A data.frame: 6 × 11\n",
       "\n",
       "| <!--/--> | HTO1.ACCCACCAGTAAGAC &lt;int&gt; | HTO2.GGTCGAGAGCATTCA &lt;int&gt; | HTO3.CTTGCCGCATGTCAT &lt;int&gt; | HTO4.AAAGCATTCTTCACG &lt;int&gt; | HTO5.CTTTGTCTTTGTGAG &lt;int&gt; | unmapped &lt;int&gt; | HTO6.TATGCTGCCACGGTA &lt;int&gt; | HTO7.GAGTCTGCCAGTATC &lt;int&gt; | HTO8.TATAGAACGCCAGGC &lt;int&gt; | HTO9.TGCCTATGAAACAAG &lt;int&gt; | HTO10.CCGATTGTAACAGAC &lt;int&gt; |\n",
       "|---|---|---|---|---|---|---|---|---|---|---|---|\n",
       "| A10AAAAAGTCTAAC |  18 |  14 |   6 |  11 | 238 | 48 | NA | NA | NA | NA | NA |\n",
       "| A10AAAACTCCCAAC |  18 |  24 |  12 | 183 |  28 | 20 | NA | NA | NA | NA | NA |\n",
       "| A10AAAACTGCTTAG |  17 |  29 | 272 |  37 |  36 | 49 | NA | NA | NA | NA | NA |\n",
       "| A10AAAAGAGTGTCT | 174 |  17 |   7 |   8 |  17 | 25 | NA | NA | NA | NA | NA |\n",
       "| A10AAAAGTCGCCGC |  19 | 318 |   8 |  27 |  45 | 46 | NA | NA | NA | NA | NA |\n",
       "| A10AAAAGTTCTCCG |  19 |  19 |  17 |  19 | 335 | 80 | NA | NA | NA | NA | NA |\n",
       "\n"
      ],
      "text/plain": [
       "                HTO1.ACCCACCAGTAAGAC HTO2.GGTCGAGAGCATTCA HTO3.CTTGCCGCATGTCAT\n",
       "A10AAAAAGTCTAAC  18                   14                    6                 \n",
       "A10AAAACTCCCAAC  18                   24                   12                 \n",
       "A10AAAACTGCTTAG  17                   29                  272                 \n",
       "A10AAAAGAGTGTCT 174                   17                    7                 \n",
       "A10AAAAGTCGCCGC  19                  318                    8                 \n",
       "A10AAAAGTTCTCCG  19                   19                   17                 \n",
       "                HTO4.AAAGCATTCTTCACG HTO5.CTTTGTCTTTGTGAG unmapped\n",
       "A10AAAAAGTCTAAC  11                  238                  48      \n",
       "A10AAAACTCCCAAC 183                   28                  20      \n",
       "A10AAAACTGCTTAG  37                   36                  49      \n",
       "A10AAAAGAGTGTCT   8                   17                  25      \n",
       "A10AAAAGTCGCCGC  27                   45                  46      \n",
       "A10AAAAGTTCTCCG  19                  335                  80      \n",
       "                HTO6.TATGCTGCCACGGTA HTO7.GAGTCTGCCAGTATC HTO8.TATAGAACGCCAGGC\n",
       "A10AAAAAGTCTAAC NA                   NA                   NA                  \n",
       "A10AAAACTCCCAAC NA                   NA                   NA                  \n",
       "A10AAAACTGCTTAG NA                   NA                   NA                  \n",
       "A10AAAAGAGTGTCT NA                   NA                   NA                  \n",
       "A10AAAAGTCGCCGC NA                   NA                   NA                  \n",
       "A10AAAAGTTCTCCG NA                   NA                   NA                  \n",
       "                HTO9.TGCCTATGAAACAAG HTO10.CCGATTGTAACAGAC\n",
       "A10AAAAAGTCTAAC NA                   NA                   \n",
       "A10AAAACTCCCAAC NA                   NA                   \n",
       "A10AAAACTGCTTAG NA                   NA                   \n",
       "A10AAAAGAGTGTCT NA                   NA                   \n",
       "A10AAAAGTCGCCGC NA                   NA                   \n",
       "A10AAAAGTTCTCCG NA                   NA                   "
      ]
     },
     "metadata": {},
     "output_type": "display_data"
    }
   ],
   "source": [
    "resultsA = read.table('citeseq_results_dense_groupA.csv', header = 1, stringsAsFactors = FALSE, sep = ',')\n",
    "resultsB = read.table('citeseq_results_dense_groupB.csv', header = 1, stringsAsFactors = FALSE, sep = ',')\n",
    "\n",
    "results = merge(resultsA, resultsB, all.x = TRUE, all.y = TRUE)\n",
    "dim(results)\n",
    "rownames(results) = results$X\n",
    "results = results[,-1]\n",
    "\n",
    "head(results)\n"
   ]
  },
  {
   "cell_type": "code",
   "execution_count": 6,
   "metadata": {},
   "outputs": [
    {
     "data": {
      "text/html": [
       "<style>\n",
       ".dl-inline {width: auto; margin:0; padding: 0}\n",
       ".dl-inline>dt, .dl-inline>dd {float: none; width: auto; display: inline-block}\n",
       ".dl-inline>dt::after {content: \":\\0020\"; padding-right: .5ex}\n",
       ".dl-inline>dt:not(:first-of-type) {padding-left: .5ex}\n",
       "</style><dl class=dl-inline><dt>A2_0</dt><dd>'A2AAATTCCGCTCT'</dd><dt>A2_1</dt><dd>'A2AACTAACCACGC'</dd><dt>A2_2</dt><dd>'A2AACTGGGACGGG'</dd><dt>A2_3</dt><dd>'A2AATCTCTGCAGC'</dd><dt>A2_4</dt><dd>'A2AATCTGACATTT'</dd><dt>A2_5</dt><dd>'A2AATTGAAACTAA'</dd></dl>\n"
      ],
      "text/latex": [
       "\\begin{description*}\n",
       "\\item[A2\\textbackslash{}\\_0] 'A2AAATTCCGCTCT'\n",
       "\\item[A2\\textbackslash{}\\_1] 'A2AACTAACCACGC'\n",
       "\\item[A2\\textbackslash{}\\_2] 'A2AACTGGGACGGG'\n",
       "\\item[A2\\textbackslash{}\\_3] 'A2AATCTCTGCAGC'\n",
       "\\item[A2\\textbackslash{}\\_4] 'A2AATCTGACATTT'\n",
       "\\item[A2\\textbackslash{}\\_5] 'A2AATTGAAACTAA'\n",
       "\\end{description*}\n"
      ],
      "text/markdown": [
       "A2_0\n",
       ":   'A2AAATTCCGCTCT'A2_1\n",
       ":   'A2AACTAACCACGC'A2_2\n",
       ":   'A2AACTGGGACGGG'A2_3\n",
       ":   'A2AATCTCTGCAGC'A2_4\n",
       ":   'A2AATCTGACATTT'A2_5\n",
       ":   'A2AATTGAAACTAA'\n",
       "\n"
      ],
      "text/plain": [
       "            A2_0             A2_1             A2_2             A2_3 \n",
       "\"A2AAATTCCGCTCT\" \"A2AACTAACCACGC\" \"A2AACTGGGACGGG\" \"A2AATCTCTGCAGC\" \n",
       "            A2_4             A2_5 \n",
       "\"A2AATCTGACATTT\" \"A2AATTGAAACTAA\" "
      ]
     },
     "metadata": {},
     "output_type": "display_data"
    }
   ],
   "source": [
    "hash_mat = results[seurat$id,c(1:5, 7:11)]\n",
    "\n",
    "seurat$id = paste0(seurat$orig,  seurat$bc)\n",
    "head(seurat$id)\n",
    "seurat = subset(seurat, cells = colnames(seurat)[seurat$id %in% rownames(hash_mat)])"
   ]
  },
  {
   "cell_type": "code",
   "execution_count": 7,
   "metadata": {},
   "outputs": [
    {
     "data": {
      "text/plain": [
       "An object of class Seurat \n",
       "20306 features across 90920 samples within 1 assay \n",
       "Active assay: RNA (20306 features, 268 variable features)\n",
       " 2 dimensional reductions calculated: pca, umap"
      ]
     },
     "metadata": {},
     "output_type": "display_data"
    }
   ],
   "source": [
    "seurat"
   ]
  },
  {
   "cell_type": "code",
   "execution_count": 8,
   "metadata": {},
   "outputs": [],
   "source": [
    "hash_mat = results[seurat$id,c(1:5, 7:11)]\n",
    "bcs_to_names = colnames(seurat)\n",
    "names(bcs_to_names) = seurat$id\n",
    "rownames(hash_mat) = bcs_to_names[rownames(hash_mat)]"
   ]
  },
  {
   "cell_type": "code",
   "execution_count": 9,
   "metadata": {},
   "outputs": [],
   "source": [
    "seurat[['HTO']] = CreateAssayObject(counts = t(hash_mat))\n",
    "seurat$letter = substring(seurat$orig, 1, 1)\n",
    "#seurat = subset(seurat, cells =colnames(seurat)[seurat$n_genes > 1000])"
   ]
  },
  {
   "cell_type": "code",
   "execution_count": 22,
   "metadata": {},
   "outputs": [
    {
     "name": "stderr",
     "output_type": "stream",
     "text": [
      "A2\n",
      "\n",
      "Normalizing across cells\n",
      "\n"
     ]
    },
    {
     "name": "stdout",
     "output_type": "stream",
     "text": [
      "[1] 1.790779\n",
      "[1] 1.731506\n",
      "[1] 0.3039438\n",
      "[1] 1.589834\n",
      "[1] 1.927521\n"
     ]
    },
    {
     "name": "stderr",
     "output_type": "stream",
     "text": [
      "A4\n",
      "\n",
      "Normalizing across cells\n",
      "\n"
     ]
    },
    {
     "name": "stdout",
     "output_type": "stream",
     "text": [
      "[1] 0.9793995\n",
      "[1] 1.128054\n",
      "[1] 0.920462\n",
      "[1] 1.169209\n",
      "[1] 1.071823\n"
     ]
    },
    {
     "name": "stderr",
     "output_type": "stream",
     "text": [
      "A5\n",
      "\n",
      "Normalizing across cells\n",
      "\n"
     ]
    },
    {
     "name": "stdout",
     "output_type": "stream",
     "text": [
      "[1] 1.131285\n",
      "[1] 1.303122\n",
      "[1] 0\n"
     ]
    },
    {
     "name": "stderr",
     "output_type": "stream",
     "text": [
      "danger\n",
      "\n"
     ]
    },
    {
     "name": "stdout",
     "output_type": "stream",
     "text": [
      "[1] 1.672609\n",
      "[1] 1.317059\n"
     ]
    },
    {
     "name": "stderr",
     "output_type": "stream",
     "text": [
      "A6\n",
      "\n",
      "Normalizing across cells\n",
      "\n"
     ]
    },
    {
     "name": "stdout",
     "output_type": "stream",
     "text": [
      "[1] 1.125075\n",
      "[1] 1.291253\n",
      "[1] 0.07807719\n"
     ]
    },
    {
     "name": "stderr",
     "output_type": "stream",
     "text": [
      "danger\n",
      "\n"
     ]
    },
    {
     "name": "stdout",
     "output_type": "stream",
     "text": [
      "[1] 1.601896\n",
      "[1] 1.268281\n"
     ]
    },
    {
     "name": "stderr",
     "output_type": "stream",
     "text": [
      "A9\n",
      "\n",
      "Normalizing across cells\n",
      "\n"
     ]
    },
    {
     "name": "stdout",
     "output_type": "stream",
     "text": [
      "[1] 1.147235\n",
      "[1] 1.180516\n",
      "[1] 1.167772\n",
      "[1] 1.041515\n",
      "[1] 1.318975\n"
     ]
    },
    {
     "name": "stderr",
     "output_type": "stream",
     "text": [
      "A10\n",
      "\n",
      "Normalizing across cells\n",
      "\n"
     ]
    },
    {
     "name": "stdout",
     "output_type": "stream",
     "text": [
      "[1] 0.7439479\n",
      "[1] 0.8002307\n",
      "[1] 0.5969409\n",
      "[1] 1.178755\n",
      "[1] 0.9728212\n"
     ]
    },
    {
     "name": "stderr",
     "output_type": "stream",
     "text": [
      "C1\n",
      "\n",
      "Normalizing across cells\n",
      "\n"
     ]
    },
    {
     "name": "stdout",
     "output_type": "stream",
     "text": [
      "[1] 1.488115\n",
      "[1] 1.504882\n",
      "[1] 1.485642\n",
      "[1] 1.846226\n",
      "[1] 2.33077\n"
     ]
    },
    {
     "name": "stderr",
     "output_type": "stream",
     "text": [
      "C4\n",
      "\n",
      "Normalizing across cells\n",
      "\n"
     ]
    },
    {
     "name": "stdout",
     "output_type": "stream",
     "text": [
      "[1] 1.423331\n",
      "[1] 1.602465\n",
      "[1] 0.9807947\n",
      "[1] 1.286282\n",
      "[1] 1.817824\n"
     ]
    },
    {
     "name": "stderr",
     "output_type": "stream",
     "text": [
      "C8\n",
      "\n",
      "Normalizing across cells\n",
      "\n"
     ]
    },
    {
     "name": "stdout",
     "output_type": "stream",
     "text": [
      "[1] 1.191873\n",
      "[1] 1.110581\n",
      "[1] 0.851808\n",
      "[1] 1.254601\n",
      "[1] 1.34353\n"
     ]
    },
    {
     "name": "stderr",
     "output_type": "stream",
     "text": [
      "C7\n",
      "\n",
      "Normalizing across cells\n",
      "\n"
     ]
    },
    {
     "name": "stdout",
     "output_type": "stream",
     "text": [
      "[1] 1.142718\n",
      "[1] 1.511926\n",
      "[1] 0.06200915\n"
     ]
    },
    {
     "name": "stderr",
     "output_type": "stream",
     "text": [
      "danger\n",
      "\n"
     ]
    },
    {
     "name": "stdout",
     "output_type": "stream",
     "text": [
      "[1] 1.380389\n",
      "[1] 1.486557\n"
     ]
    },
    {
     "name": "stderr",
     "output_type": "stream",
     "text": [
      "E1\n",
      "\n",
      "Normalizing across cells\n",
      "\n"
     ]
    },
    {
     "name": "stdout",
     "output_type": "stream",
     "text": [
      "[1] 1.49789\n",
      "[1] 1.807132\n",
      "[1] 2.028421\n",
      "[1] 2.403209\n"
     ]
    },
    {
     "name": "stderr",
     "output_type": "stream",
     "text": [
      "E7\n",
      "\n",
      "Normalizing across cells\n",
      "\n"
     ]
    },
    {
     "name": "stdout",
     "output_type": "stream",
     "text": [
      "[1] 2.008381\n",
      "[1] 2.219493\n",
      "[1] 2.036235\n",
      "[1] 0\n"
     ]
    },
    {
     "name": "stderr",
     "output_type": "stream",
     "text": [
      "danger\n",
      "\n"
     ]
    },
    {
     "name": "stdout",
     "output_type": "stream",
     "text": [
      "[1] 0.2337519\n"
     ]
    },
    {
     "name": "stderr",
     "output_type": "stream",
     "text": [
      "danger\n",
      "\n",
      "E10\n",
      "\n",
      "Normalizing across cells\n",
      "\n"
     ]
    },
    {
     "name": "stdout",
     "output_type": "stream",
     "text": [
      "[1] 1.896717\n",
      "[1] 1.776597\n",
      "[1] 2.257253\n",
      "[1] 2.40763\n",
      "[1] 1.242955\n"
     ]
    },
    {
     "name": "stderr",
     "output_type": "stream",
     "text": [
      "O1\n",
      "\n",
      "Normalizing across cells\n",
      "\n"
     ]
    },
    {
     "name": "stdout",
     "output_type": "stream",
     "text": [
      "[1] 1.613129\n",
      "[1] 1.757282\n",
      "[1] 2.700547\n",
      "[1] 1.899891\n",
      "[1] 1.31725\n"
     ]
    },
    {
     "name": "stderr",
     "output_type": "stream",
     "text": [
      "O2\n",
      "\n",
      "Normalizing across cells\n",
      "\n"
     ]
    },
    {
     "name": "stdout",
     "output_type": "stream",
     "text": [
      "[1] 1.319988\n",
      "[1] 1.598025\n",
      "[1] 1.495546\n",
      "[1] 1.04761\n"
     ]
    },
    {
     "name": "stderr",
     "output_type": "stream",
     "text": [
      "O3\n",
      "\n",
      "Normalizing across cells\n",
      "\n"
     ]
    },
    {
     "name": "stdout",
     "output_type": "stream",
     "text": [
      "[1] 1.267052\n",
      "[1] 1.523499\n",
      "[1] 1.54908\n",
      "[1] 1.327177\n",
      "[1] 1.639201\n"
     ]
    },
    {
     "name": "stderr",
     "output_type": "stream",
     "text": [
      "O4\n",
      "\n",
      "Normalizing across cells\n",
      "\n"
     ]
    },
    {
     "name": "stdout",
     "output_type": "stream",
     "text": [
      "[1] 0.9042529\n",
      "[1] 0.9894863\n",
      "[1] 0.7092016\n",
      "[1] 0.9660695\n",
      "[1] 0.8549094\n"
     ]
    },
    {
     "name": "stderr",
     "output_type": "stream",
     "text": [
      "P1\n",
      "\n",
      "Normalizing across cells\n",
      "\n"
     ]
    },
    {
     "name": "stdout",
     "output_type": "stream",
     "text": [
      "[1] 2.30427\n",
      "[1] 2.631269\n",
      "[1] 2.320593\n",
      "[1] 2.274919\n",
      "[1] 0\n"
     ]
    },
    {
     "name": "stderr",
     "output_type": "stream",
     "text": [
      "danger\n",
      "\n",
      "P2\n",
      "\n",
      "Normalizing across cells\n",
      "\n"
     ]
    },
    {
     "name": "stdout",
     "output_type": "stream",
     "text": [
      "[1] 1.425942\n",
      "[1] 1.809912\n",
      "[1] 1.506512\n",
      "[1] 1.592124\n",
      "[1] 1.353026\n"
     ]
    },
    {
     "name": "stderr",
     "output_type": "stream",
     "text": [
      "P3\n",
      "\n",
      "Normalizing across cells\n",
      "\n"
     ]
    },
    {
     "name": "stdout",
     "output_type": "stream",
     "text": [
      "[1] 1.276555\n",
      "[1] 1.528047\n",
      "[1] 1.284382\n",
      "[1] 1.462776\n",
      "[1] 1.176061\n"
     ]
    },
    {
     "name": "stderr",
     "output_type": "stream",
     "text": [
      "P4\n",
      "\n",
      "Normalizing across cells\n",
      "\n"
     ]
    },
    {
     "name": "stdout",
     "output_type": "stream",
     "text": [
      "[1] 1.597201\n",
      "[1] 1.83976\n",
      "[1] 1.590637\n",
      "[1] 1.660115\n",
      "[1] 0\n"
     ]
    },
    {
     "name": "stderr",
     "output_type": "stream",
     "text": [
      "danger\n",
      "\n",
      "P5\n",
      "\n",
      "Normalizing across cells\n",
      "\n"
     ]
    },
    {
     "name": "stdout",
     "output_type": "stream",
     "text": [
      "[1] 1.207357\n",
      "[1] 1.67701\n",
      "[1] 1.339527\n",
      "[1] 1.589543\n",
      "[1] 0.8833169\n"
     ]
    },
    {
     "name": "stderr",
     "output_type": "stream",
     "text": [
      "P6\n",
      "\n",
      "Normalizing across cells\n",
      "\n"
     ]
    },
    {
     "name": "stdout",
     "output_type": "stream",
     "text": [
      "[1] 0.6262888\n",
      "[1] 1.077905\n",
      "[1] 0.8720665\n",
      "[1] 0.9001853\n",
      "[1] 0.4721262\n"
     ]
    },
    {
     "name": "stderr",
     "output_type": "stream",
     "text": [
      "P7\n",
      "\n",
      "Normalizing across cells\n",
      "\n"
     ]
    },
    {
     "name": "stdout",
     "output_type": "stream",
     "text": [
      "[1] 1.8807\n",
      "[1] 1.950273\n",
      "[1] 1.86189\n",
      "[1] 2.313511\n",
      "[1] 1.656674\n"
     ]
    },
    {
     "name": "stderr",
     "output_type": "stream",
     "text": [
      "P8\n",
      "\n",
      "Normalizing across cells\n",
      "\n"
     ]
    },
    {
     "name": "stdout",
     "output_type": "stream",
     "text": [
      "[1] 1.496318\n",
      "[1] 1.500726\n",
      "[1] 1.509601\n",
      "[1] 1.375888\n",
      "[1] 1.385445\n"
     ]
    },
    {
     "name": "stderr",
     "output_type": "stream",
     "text": [
      "P9\n",
      "\n",
      "Normalizing across cells\n",
      "\n"
     ]
    },
    {
     "name": "stdout",
     "output_type": "stream",
     "text": [
      "[1] 1.592494\n",
      "[1] 0\n"
     ]
    },
    {
     "name": "stderr",
     "output_type": "stream",
     "text": [
      "danger\n",
      "\n"
     ]
    },
    {
     "name": "stdout",
     "output_type": "stream",
     "text": [
      "[1] 1.600297\n",
      "[1] 1.861865\n",
      "[1] 1.436976\n"
     ]
    },
    {
     "name": "stderr",
     "output_type": "stream",
     "text": [
      "P10\n",
      "\n",
      "Normalizing across cells\n",
      "\n"
     ]
    },
    {
     "name": "stdout",
     "output_type": "stream",
     "text": [
      "[1] 1.188345\n",
      "[1] 1.494191\n",
      "[1] 1.512286\n",
      "[1] 1.415032\n",
      "[1] 1.098952\n"
     ]
    },
    {
     "name": "stderr",
     "output_type": "stream",
     "text": [
      "P11\n",
      "\n",
      "Normalizing across cells\n",
      "\n"
     ]
    },
    {
     "name": "stdout",
     "output_type": "stream",
     "text": [
      "[1] 0.4453123\n",
      "[1] 1.119117\n",
      "[1] 1.378141\n",
      "[1] 0.9117825\n",
      "[1] 0.4974379\n"
     ]
    },
    {
     "name": "stderr",
     "output_type": "stream",
     "text": [
      "P12\n",
      "\n",
      "Normalizing across cells\n",
      "\n"
     ]
    },
    {
     "name": "stdout",
     "output_type": "stream",
     "text": [
      "[1] 0.6565282\n",
      "[1] 1.477733\n",
      "[1] 1.516721\n",
      "[1] 1.552596\n",
      "[1] 1.387867\n"
     ]
    }
   ],
   "source": [
    "library(MASS)\n",
    "library(cluster)\n",
    "library(outliers)\n",
    "library(dplyr)\n",
    "seurat$hash = NA\n",
    "Idents(seurat) = 'orig'\n",
    "for (curr in unique(seurat$orig)) {\n",
    "    message(curr)\n",
    "   sub =subset(seurat, idents =  curr)\n",
    "    \n",
    "    if (length(colnames(sub)) > 50) {\n",
    "        if (substring(curr, 1,1 ) %in% c('A', 'B', 'C', 'D', 'E'))  {\n",
    "        sub[['HTO']] = CreateAssayObject(counts = t(hash_mat[colnames(sub),1:5]))\n",
    "            }\n",
    "        \n",
    "        \n",
    "         if (substring(curr, 1,1 ) %in% c('O', 'P'))  {\n",
    "        sub[['HTO']] = CreateAssayObject(counts = t(hash_mat[colnames(sub),6:10]))\n",
    "            }\n",
    "        \n",
    "        if(curr == 'O2') {\n",
    "            sub[['HTO']] = CreateAssayObject(counts = t(hash_mat[colnames(sub),c(6,7,9,10)]))\n",
    "        }\n",
    "     if(curr == 'E1') {\n",
    "            sub[['HTO']] = CreateAssayObject(counts = t(hash_mat[colnames(sub),1:4]))\n",
    "        }\n",
    "        sub = NormalizeData(sub, assay = 'HTO', normalization.method = 'CLR', margin = 2)\n",
    "        \n",
    "        \n",
    "\n",
    "        DefaultAssay(sub) = 'HTO'\n",
    "        data = GetAssayData(sub)\n",
    "\n",
    "        # k medioids\n",
    "        meds = pam(t(data), k = dim(data)[1])\n",
    "        calls = t(data)\n",
    "        cluster_data = meds$medoids %>% as.matrix()\n",
    "        \n",
    "\n",
    "        for (i in 1:dim(cluster_data)[2]) {\n",
    "            \n",
    "  \n",
    "\n",
    "            curr_med = which.max(cluster_data[,i])\n",
    "            negs = meds$clustering[meds$clustering != curr_med]\n",
    "            neg_vals = data[i, names(negs)]\n",
    "            pos_vals = data[i, meds$clustering == curr_med]\n",
    "            pos_vals = pos_vals[order(pos_vals)] \n",
    "            done = FALSE\n",
    "            thresh = min(pos_vals)\n",
    "            # remove outliers and set threshold\n",
    "            while(!done & length(pos_vals) > 5) {\n",
    "                done = TRUE\n",
    "                avg = mean(pos_vals)\n",
    "                diff1 = avg - min(pos_vals)\n",
    "                diff2 = max(pos_vals) - avg\n",
    "                test = grubbs.test(pos_vals, opposite = diff1 < diff2)\n",
    "                if (test$p.value < 0.05) {\n",
    "                    pos_vals = pos_vals[-1]\n",
    "                    done = FALSE\n",
    "                }\n",
    "                thresh = min(pos_vals)\n",
    "\n",
    "            }\n",
    "            print(thresh)\n",
    "            if (thresh < .3) {\n",
    "                thresh = 1.5\n",
    "                message('danger')\n",
    "            }\n",
    "                   # except A5, where a low frequency of HTO3 causes kmeans to fail\n",
    "                if (sub$orig[1] == 'A5' & i == 4) {\n",
    "                    thresh = 1.3\n",
    "                }\n",
    "            if (sub$orig[1] == 'A6' & i == 4) {\n",
    "                    thresh = 1.3\n",
    "                }\n",
    "                if (sub$orig[1] == 'A2' & i == 3) {\n",
    "                    thresh = 1.5\n",
    "                }\n",
    "                 if (sub$orig[1] == 'A2' & i == 2) {\n",
    "                    thresh = 1\n",
    "                }\n",
    "                  if (sub$orig[1] == 'A2' & i == 1) {\n",
    "                    thresh = 1\n",
    "                }        \n",
    "\n",
    "            calls[,i] = as.numeric(calls[,i] >= thresh)\n",
    "            assign = apply(calls, 1, which.max)\n",
    "            assign = paste0( 'HTO', assign)\n",
    "            rsums = rowSums(calls)\n",
    "            \n",
    "        \n",
    "            \n",
    "            assign[rsums > 1] = 'Doublet'\n",
    "            assign[rsums == 0] = 'Negative'\n",
    " \n",
    "            seurat@meta.data[colnames(sub), 'hash'] = assign\n",
    "\n",
    "            pheatmap::pheatmap(t(data), annotation_row = data.frame(row.names = colnames(data), id = factor(assign)), filename = paste0(curr, '.png'), show_rownames = FALSE)\n",
    "\n",
    "        }\n",
    "    }\n",
    "}"
   ]
  },
  {
   "cell_type": "code",
   "execution_count": 25,
   "metadata": {},
   "outputs": [],
   "source": [
    "saveRDS(seurat, 'hashed_seurat.RDS')"
   ]
  },
  {
   "cell_type": "code",
   "execution_count": 28,
   "metadata": {},
   "outputs": [
    {
     "data": {
      "image/png": "[encoded data removed]",
      "text/plain": [
       "plot without title"
      ]
     },
     "metadata": {
      "image/png": {
       "height": 1050,
       "width": 1050
      }
     },
     "output_type": "display_data"
    }
   ],
   "source": [
    "library(ggplot2)\n",
    "options(repr.plot.res = 300)\n",
    "ggplot(seurat@meta.data, aes(x = orig, fill = hash)) + geom_bar(position = 'fill')"
   ]
  },
  {
   "cell_type": "code",
   "execution_count": 31,
   "metadata": {},
   "outputs": [],
   "source": [
    "saveRDS(seurat@meta.data, 'hashmeta.RDS')"
   ]
  }
 ],
 "metadata": {
  "kernelspec": {
   "display_name": "Rv4",
   "language": "R",
   "name": "ir4"
  },
  "language_info": {
   "codemirror_mode": "r",
   "file_extension": ".r",
   "mimetype": "text/x-r-source",
   "name": "R",
   "pygments_lexer": "r",
   "version": "4.1.0"
  }
 },
 "nbformat": 4,
 "nbformat_minor": 2
}
