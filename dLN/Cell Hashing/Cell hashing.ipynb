{
 "cells": [
  {
   "cell_type": "code",
   "execution_count": 1,
   "metadata": {},
   "outputs": [
    {
     "name": "stderr",
     "output_type": "stream",
     "text": [
      "Warning message:\n",
      "\"package 'Seurat' was built under R version 4.1.3\"\n",
      "Attaching SeuratObject\n",
      "\n",
      "Attaching sp\n",
      "\n"
     ]
    }
   ],
   "source": [
    "library(Seurat)\n",
    "seurat = readRDS('prehashing_seurat.RDS')"
   ]
  },
  {
   "cell_type": "code",
   "execution_count": 2,
   "metadata": {},
   "outputs": [
    {
     "name": "stderr",
     "output_type": "stream",
     "text": [
      "Updating from v2.X to v3.X\n",
      "\n",
      "Validating object structure\n",
      "\n",
      "Updating object slots\n",
      "\n",
      "Ensuring keys are in the proper strucutre\n",
      "\n",
      "Ensuring feature names don't have underscores or pipes\n",
      "\n",
      "Object representation is consistent with the most current Seurat version\n",
      "\n"
     ]
    }
   ],
   "source": [
    "seurat = UpdateSeuratObject(seurat)"
   ]
  },
  {
   "cell_type": "code",
   "execution_count": 3,
   "metadata": {},
   "outputs": [
    {
     "data": {
      "text/html": [
       "<table class=\"dataframe\">\n",
       "<caption>A data.frame: 6 × 11</caption>\n",
       "<thead>\n",
       "\t<tr><th></th><th scope=col>HTO1.ACCCACCAGTAAGAC</th><th scope=col>HTO2.GGTCGAGAGCATTCA</th><th scope=col>HTO3.CTTGCCGCATGTCAT</th><th scope=col>HTO4.AAAGCATTCTTCACG</th><th scope=col>HTO5.CTTTGTCTTTGTGAG</th><th scope=col>HTO6.TATGCTGCCACGGTA</th><th scope=col>HTO7.GAGTCTGCCAGTATC</th><th scope=col>HTO8.TATAGAACGCCAGGC</th><th scope=col>HTO9.TGCCTATGAAACAAG</th><th scope=col>HTO10.CCGATTGTAACAGAC</th><th scope=col>unmapped</th></tr>\n",
       "\t<tr><th></th><th scope=col>&lt;int&gt;</th><th scope=col>&lt;int&gt;</th><th scope=col>&lt;int&gt;</th><th scope=col>&lt;int&gt;</th><th scope=col>&lt;int&gt;</th><th scope=col>&lt;int&gt;</th><th scope=col>&lt;int&gt;</th><th scope=col>&lt;int&gt;</th><th scope=col>&lt;int&gt;</th><th scope=col>&lt;int&gt;</th><th scope=col>&lt;int&gt;</th></tr>\n",
       "</thead>\n",
       "<tbody>\n",
       "\t<tr><th scope=row>O2GTCGAAAGCCTT</th><td>0</td><td>0</td><td>0</td><td>0</td><td>0</td><td> 22</td><td> 32</td><td> 15</td><td>550</td><td>212</td><td>107</td></tr>\n",
       "\t<tr><th scope=row>O2ATTGTACGCGAT</th><td>0</td><td>0</td><td>0</td><td>0</td><td>0</td><td>122</td><td> 29</td><td> 29</td><td> 16</td><td> 16</td><td> 40</td></tr>\n",
       "\t<tr><th scope=row>O2CAGGGAAGTCGC</th><td>0</td><td>0</td><td>0</td><td>0</td><td>0</td><td> 11</td><td> 10</td><td>  5</td><td>374</td><td>  1</td><td> 82</td></tr>\n",
       "\t<tr><th scope=row>O2ATTTCGAAACTT</th><td>0</td><td>0</td><td>0</td><td>0</td><td>0</td><td> 30</td><td>386</td><td>304</td><td> 16</td><td>  4</td><td>110</td></tr>\n",
       "\t<tr><th scope=row>O2GCTACAGGTACC</th><td>0</td><td>3</td><td>0</td><td>0</td><td>0</td><td>401</td><td> 13</td><td> 11</td><td> 18</td><td>  7</td><td>118</td></tr>\n",
       "\t<tr><th scope=row>O2GCCGTAGTGAGA</th><td>0</td><td>0</td><td>0</td><td>0</td><td>0</td><td> 21</td><td> 15</td><td>  6</td><td>  1</td><td>212</td><td> 55</td></tr>\n",
       "</tbody>\n",
       "</table>\n"
      ],
      "text/latex": [
       "A data.frame: 6 × 11\n",
       "\\begin{tabular}{r|lllllllllll}\n",
       "  & HTO1.ACCCACCAGTAAGAC & HTO2.GGTCGAGAGCATTCA & HTO3.CTTGCCGCATGTCAT & HTO4.AAAGCATTCTTCACG & HTO5.CTTTGTCTTTGTGAG & HTO6.TATGCTGCCACGGTA & HTO7.GAGTCTGCCAGTATC & HTO8.TATAGAACGCCAGGC & HTO9.TGCCTATGAAACAAG & HTO10.CCGATTGTAACAGAC & unmapped\\\\\n",
       "  & <int> & <int> & <int> & <int> & <int> & <int> & <int> & <int> & <int> & <int> & <int>\\\\\n",
       "\\hline\n",
       "\tO2GTCGAAAGCCTT & 0 & 0 & 0 & 0 & 0 &  22 &  32 &  15 & 550 & 212 & 107\\\\\n",
       "\tO2ATTGTACGCGAT & 0 & 0 & 0 & 0 & 0 & 122 &  29 &  29 &  16 &  16 &  40\\\\\n",
       "\tO2CAGGGAAGTCGC & 0 & 0 & 0 & 0 & 0 &  11 &  10 &   5 & 374 &   1 &  82\\\\\n",
       "\tO2ATTTCGAAACTT & 0 & 0 & 0 & 0 & 0 &  30 & 386 & 304 &  16 &   4 & 110\\\\\n",
       "\tO2GCTACAGGTACC & 0 & 3 & 0 & 0 & 0 & 401 &  13 &  11 &  18 &   7 & 118\\\\\n",
       "\tO2GCCGTAGTGAGA & 0 & 0 & 0 & 0 & 0 &  21 &  15 &   6 &   1 & 212 &  55\\\\\n",
       "\\end{tabular}\n"
      ],
      "text/markdown": [
       "\n",
       "A data.frame: 6 × 11\n",
       "\n",
       "| <!--/--> | HTO1.ACCCACCAGTAAGAC &lt;int&gt; | HTO2.GGTCGAGAGCATTCA &lt;int&gt; | HTO3.CTTGCCGCATGTCAT &lt;int&gt; | HTO4.AAAGCATTCTTCACG &lt;int&gt; | HTO5.CTTTGTCTTTGTGAG &lt;int&gt; | HTO6.TATGCTGCCACGGTA &lt;int&gt; | HTO7.GAGTCTGCCAGTATC &lt;int&gt; | HTO8.TATAGAACGCCAGGC &lt;int&gt; | HTO9.TGCCTATGAAACAAG &lt;int&gt; | HTO10.CCGATTGTAACAGAC &lt;int&gt; | unmapped &lt;int&gt; |\n",
       "|---|---|---|---|---|---|---|---|---|---|---|---|\n",
       "| O2GTCGAAAGCCTT | 0 | 0 | 0 | 0 | 0 |  22 |  32 |  15 | 550 | 212 | 107 |\n",
       "| O2ATTGTACGCGAT | 0 | 0 | 0 | 0 | 0 | 122 |  29 |  29 |  16 |  16 |  40 |\n",
       "| O2CAGGGAAGTCGC | 0 | 0 | 0 | 0 | 0 |  11 |  10 |   5 | 374 |   1 |  82 |\n",
       "| O2ATTTCGAAACTT | 0 | 0 | 0 | 0 | 0 |  30 | 386 | 304 |  16 |   4 | 110 |\n",
       "| O2GCTACAGGTACC | 0 | 3 | 0 | 0 | 0 | 401 |  13 |  11 |  18 |   7 | 118 |\n",
       "| O2GCCGTAGTGAGA | 0 | 0 | 0 | 0 | 0 |  21 |  15 |   6 |   1 | 212 |  55 |\n",
       "\n"
      ],
      "text/plain": [
       "               HTO1.ACCCACCAGTAAGAC HTO2.GGTCGAGAGCATTCA HTO3.CTTGCCGCATGTCAT\n",
       "O2GTCGAAAGCCTT 0                    0                    0                   \n",
       "O2ATTGTACGCGAT 0                    0                    0                   \n",
       "O2CAGGGAAGTCGC 0                    0                    0                   \n",
       "O2ATTTCGAAACTT 0                    0                    0                   \n",
       "O2GCTACAGGTACC 0                    3                    0                   \n",
       "O2GCCGTAGTGAGA 0                    0                    0                   \n",
       "               HTO4.AAAGCATTCTTCACG HTO5.CTTTGTCTTTGTGAG HTO6.TATGCTGCCACGGTA\n",
       "O2GTCGAAAGCCTT 0                    0                     22                 \n",
       "O2ATTGTACGCGAT 0                    0                    122                 \n",
       "O2CAGGGAAGTCGC 0                    0                     11                 \n",
       "O2ATTTCGAAACTT 0                    0                     30                 \n",
       "O2GCTACAGGTACC 0                    0                    401                 \n",
       "O2GCCGTAGTGAGA 0                    0                     21                 \n",
       "               HTO7.GAGTCTGCCAGTATC HTO8.TATAGAACGCCAGGC HTO9.TGCCTATGAAACAAG\n",
       "O2GTCGAAAGCCTT  32                   15                  550                 \n",
       "O2ATTGTACGCGAT  29                   29                   16                 \n",
       "O2CAGGGAAGTCGC  10                    5                  374                 \n",
       "O2ATTTCGAAACTT 386                  304                   16                 \n",
       "O2GCTACAGGTACC  13                   11                   18                 \n",
       "O2GCCGTAGTGAGA  15                    6                    1                 \n",
       "               HTO10.CCGATTGTAACAGAC unmapped\n",
       "O2GTCGAAAGCCTT 212                   107     \n",
       "O2ATTGTACGCGAT  16                    40     \n",
       "O2CAGGGAAGTCGC   1                    82     \n",
       "O2ATTTCGAAACTT   4                   110     \n",
       "O2GCTACAGGTACC   7                   118     \n",
       "O2GCCGTAGTGAGA 212                    55     "
      ]
     },
     "metadata": {},
     "output_type": "display_data"
    }
   ],
   "source": [
    "results = read.table('citeseq_results_dense.csv', header = 1, stringsAsFactors = FALSE, sep = ',', row.names = 1)\n",
    "\n",
    "head(results)\n"
   ]
  },
  {
   "cell_type": "code",
   "execution_count": 4,
   "metadata": {},
   "outputs": [
    {
     "data": {
      "text/html": [
       "<style>\n",
       ".dl-inline {width: auto; margin:0; padding: 0}\n",
       ".dl-inline>dt, .dl-inline>dd {float: none; width: auto; display: inline-block}\n",
       ".dl-inline>dt::after {content: \":\\0020\"; padding-right: .5ex}\n",
       ".dl-inline>dt:not(:first-of-type) {padding-left: .5ex}\n",
       "</style><dl class=dl-inline><dt>S4_0</dt><dd>'S4AAAAAACCGTTT'</dd><dt>S4_1</dt><dd>'S4AAAAAATCGATA'</dd><dt>S4_2</dt><dd>'S4AAAAAGCGCTGA'</dd><dt>S4_3</dt><dd>'S4AAAACATCCAAA'</dd><dt>S4_4</dt><dd>'S4AAAACATCGTTA'</dd><dt>S4_5</dt><dd>'S4AAAACGCTTTAA'</dd></dl>\n"
      ],
      "text/latex": [
       "\\begin{description*}\n",
       "\\item[S4\\textbackslash{}\\_0] 'S4AAAAAACCGTTT'\n",
       "\\item[S4\\textbackslash{}\\_1] 'S4AAAAAATCGATA'\n",
       "\\item[S4\\textbackslash{}\\_2] 'S4AAAAAGCGCTGA'\n",
       "\\item[S4\\textbackslash{}\\_3] 'S4AAAACATCCAAA'\n",
       "\\item[S4\\textbackslash{}\\_4] 'S4AAAACATCGTTA'\n",
       "\\item[S4\\textbackslash{}\\_5] 'S4AAAACGCTTTAA'\n",
       "\\end{description*}\n"
      ],
      "text/markdown": [
       "S4_0\n",
       ":   'S4AAAAAACCGTTT'S4_1\n",
       ":   'S4AAAAAATCGATA'S4_2\n",
       ":   'S4AAAAAGCGCTGA'S4_3\n",
       ":   'S4AAAACATCCAAA'S4_4\n",
       ":   'S4AAAACATCGTTA'S4_5\n",
       ":   'S4AAAACGCTTTAA'\n",
       "\n"
      ],
      "text/plain": [
       "            S4_0             S4_1             S4_2             S4_3 \n",
       "\"S4AAAAAACCGTTT\" \"S4AAAAAATCGATA\" \"S4AAAAAGCGCTGA\" \"S4AAAACATCCAAA\" \n",
       "            S4_4             S4_5 \n",
       "\"S4AAAACATCGTTA\" \"S4AAAACGCTTTAA\" "
      ]
     },
     "metadata": {},
     "output_type": "display_data"
    }
   ],
   "source": [
    "hash_mat = results\n",
    "seurat$id = paste0(seurat$orig,  seurat$bc)\n",
    "head(seurat$id)\n",
    "seurat = subset(seurat, cells = colnames(seurat)[seurat$id %in% rownames(hash_mat)])"
   ]
  },
  {
   "cell_type": "code",
   "execution_count": 5,
   "metadata": {},
   "outputs": [
    {
     "data": {
      "text/plain": [
       "An object of class Seurat \n",
       "14458 features across 19535 samples within 1 assay \n",
       "Active assay: RNA (14458 features, 0 variable features)"
      ]
     },
     "metadata": {},
     "output_type": "display_data"
    }
   ],
   "source": [
    "seurat"
   ]
  },
  {
   "cell_type": "code",
   "execution_count": 6,
   "metadata": {},
   "outputs": [],
   "source": [
    "hash_mat = results[seurat$id,]\n",
    "bcs_to_names = colnames(seurat)\n",
    "names(bcs_to_names) = seurat$id\n",
    "rownames(hash_mat) = bcs_to_names[rownames(hash_mat)]"
   ]
  },
  {
   "cell_type": "code",
   "execution_count": 7,
   "metadata": {},
   "outputs": [],
   "source": [
    "seurat[['HTO']] = CreateAssayObject(counts = t(hash_mat))\n",
    "seurat$letter = substring(seurat$orig, 1, 1)\n",
    "#seurat = subset(seurat, cells =colnames(seurat)[seurat$n_genes > 1000])"
   ]
  },
  {
   "cell_type": "code",
   "execution_count": 8,
   "metadata": {},
   "outputs": [
    {
     "data": {
      "text/html": [
       "<style>\n",
       ".list-inline {list-style: none; margin:0; padding: 0}\n",
       ".list-inline>li {display: inline-block}\n",
       ".list-inline>li:not(:last-child)::after {content: \"\\00b7\"; padding: 0 .5ex}\n",
       "</style>\n",
       "<ol class=list-inline><li>'S4'</li><li>'S5'</li><li>'S6'</li><li>'S7'</li></ol>\n"
      ],
      "text/latex": [
       "\\begin{enumerate*}\n",
       "\\item 'S4'\n",
       "\\item 'S5'\n",
       "\\item 'S6'\n",
       "\\item 'S7'\n",
       "\\end{enumerate*}\n"
      ],
      "text/markdown": [
       "1. 'S4'\n",
       "2. 'S5'\n",
       "3. 'S6'\n",
       "4. 'S7'\n",
       "\n",
       "\n"
      ],
      "text/plain": [
       "[1] \"S4\" \"S5\" \"S6\" \"S7\""
      ]
     },
     "metadata": {},
     "output_type": "display_data"
    }
   ],
   "source": [
    "unique(seurat$orig)"
   ]
  },
  {
   "cell_type": "code",
   "execution_count": 9,
   "metadata": {},
   "outputs": [
    {
     "data": {
      "text/plain": [
       "\n",
       "  S4   S5   S6   S7 \n",
       "5447 7190 3204 3694 "
      ]
     },
     "metadata": {},
     "output_type": "display_data"
    }
   ],
   "source": [
    "table(seurat$orig)"
   ]
  },
  {
   "cell_type": "code",
   "execution_count": 10,
   "metadata": {},
   "outputs": [
    {
     "name": "stderr",
     "output_type": "stream",
     "text": [
      "Warning message:\n",
      "\"package 'outliers' was built under R version 4.1.1\"\n",
      "Warning message:\n",
      "\"package 'dplyr' was built under R version 4.1.3\"\n",
      "\n",
      "Attaching package: 'dplyr'\n",
      "\n",
      "\n",
      "The following object is masked from 'package:MASS':\n",
      "\n",
      "    select\n",
      "\n",
      "\n",
      "The following objects are masked from 'package:stats':\n",
      "\n",
      "    filter, lag\n",
      "\n",
      "\n",
      "The following objects are masked from 'package:base':\n",
      "\n",
      "    intersect, setdiff, setequal, union\n",
      "\n",
      "\n",
      "S4\n",
      "\n",
      "Normalizing across cells\n",
      "\n"
     ]
    },
    {
     "name": "stdout",
     "output_type": "stream",
     "text": [
      "[1] 1.809497\n",
      "[1] 2.057133\n",
      "[1] 2.122157\n",
      "[1] 0\n"
     ]
    },
    {
     "name": "stderr",
     "output_type": "stream",
     "text": [
      "danger\n",
      "\n"
     ]
    },
    {
     "name": "stdout",
     "output_type": "stream",
     "text": [
      "[1] 1.886501\n"
     ]
    },
    {
     "name": "stderr",
     "output_type": "stream",
     "text": [
      "S5\n",
      "\n",
      "Normalizing across cells\n",
      "\n"
     ]
    },
    {
     "name": "stdout",
     "output_type": "stream",
     "text": [
      "[1] 1.561516\n",
      "[1] 1.465398\n",
      "[1] 1.852091\n",
      "[1] 1.627846\n",
      "[1] 1.266535\n"
     ]
    },
    {
     "name": "stderr",
     "output_type": "stream",
     "text": [
      "S6\n",
      "\n",
      "Normalizing across cells\n",
      "\n"
     ]
    },
    {
     "name": "stdout",
     "output_type": "stream",
     "text": [
      "[1] 1.538262\n",
      "[1] 1.329744\n",
      "[1] 1.627762\n",
      "[1] 1.98161\n",
      "[1] 1.895404\n"
     ]
    },
    {
     "name": "stderr",
     "output_type": "stream",
     "text": [
      "S7\n",
      "\n",
      "Normalizing across cells\n",
      "\n"
     ]
    },
    {
     "name": "stdout",
     "output_type": "stream",
     "text": [
      "[1] 1.058688\n",
      "[1] 0.6170331\n",
      "[1] 1.213371\n",
      "[1] 1.638048\n",
      "[1] 1.070042\n"
     ]
    }
   ],
   "source": [
    "library(MASS)\n",
    "library(cluster)\n",
    "library(outliers)\n",
    "library(dplyr)\n",
    "seurat$hash = NA\n",
    "Idents(seurat) = 'orig'\n",
    "for (curr in unique(seurat$orig)) {\n",
    "    message(curr)\n",
    "   sub =subset(seurat, idents =  curr)\n",
    "    \n",
    "    if (length(colnames(sub)) > 50) {\n",
    " \n",
    "        \n",
    "        if(curr %in% c('S5', 'S4')) {\n",
    "            sub[['HTO']] = CreateAssayObject(counts = t(hash_mat[colnames(sub),c(6,7,8,9,10)]))\n",
    "        }\n",
    "    \n",
    "        if(curr %in% c('S7', 'S6')) {\n",
    "            sub[['HTO']] = CreateAssayObject(counts = t(hash_mat[colnames(sub),c(1,2,3,4,5)]))\n",
    "        }\n",
    "        \n",
    "        \n",
    "        \n",
    "        sub = NormalizeData(sub, assay = 'HTO', normalization.method = 'CLR', margin = 2)\n",
    "        \n",
    "        \n",
    "\n",
    "        DefaultAssay(sub) = 'HTO'\n",
    "        data = GetAssayData(sub)\n",
    "\n",
    "        # k medioids\n",
    "        meds = pam(t(data), k = dim(data)[1])\n",
    "        calls = t(data)\n",
    "        cluster_data = meds$medoids %>% as.matrix()\n",
    "        \n",
    "\n",
    "        for (i in 1:dim(cluster_data)[2]) {\n",
    "            \n",
    "  \n",
    "\n",
    "            curr_med = which.max(cluster_data[,i])\n",
    "            negs = meds$clustering[meds$clustering != curr_med]\n",
    "            neg_vals = data[i, names(negs)]\n",
    "            pos_vals = data[i, meds$clustering == curr_med]\n",
    "            pos_vals = pos_vals[order(pos_vals)] \n",
    "            done = FALSE\n",
    "            thresh = min(pos_vals)\n",
    "            # remove outliers and set threshold\n",
    "            while(!done & length(pos_vals) > 5) {\n",
    "                done = TRUE\n",
    "                avg = mean(pos_vals)\n",
    "                diff1 = avg - min(pos_vals)\n",
    "                diff2 = max(pos_vals) - avg\n",
    "                test = grubbs.test(pos_vals, opposite = diff1 < diff2)\n",
    "                if (test$p.value < 0.05) {\n",
    "                    pos_vals = pos_vals[-1]\n",
    "                    done = FALSE\n",
    "                }\n",
    "                thresh = min(pos_vals)\n",
    "\n",
    "            }\n",
    "            print(thresh)\n",
    "            if (thresh < .3) {\n",
    "                thresh = 1.5\n",
    "                message('danger')\n",
    "            }   \n",
    "\n",
    "            if (thresh < .3) {\n",
    "                thresh = 1.5\n",
    "                message('danger')\n",
    "            }   \n",
    "            \n",
    "            if (curr == 'S7' & i == 2) {\n",
    "                thresh = 1\n",
    "            }\n",
    "            \n",
    "            if (curr == 'S7' & i == 1) {\n",
    "                thresh = 2\n",
    "            }\n",
    "            \n",
    "            if (curr == 'S7' & i == 4) {\n",
    "                thresh = 2\n",
    "            }\n",
    "             if (curr == 'S7' & i == 3) {\n",
    "                thresh = 2\n",
    "            }\n",
    "            if (curr == 'S7' & i == 5) {\n",
    "                thresh = 1.5\n",
    "            }\n",
    "            \n",
    "            \n",
    "            calls[,i] = as.numeric(calls[,i] >= thresh)\n",
    "            }\n",
    "        \n",
    "        \n",
    "        assign = apply(calls, 1, which.max)\n",
    "        assign = paste0( 'HTO', assign)\n",
    "        rsums = rowSums(calls)\n",
    "            \n",
    "        assign[rsums > 1] = 'Doublet'\n",
    "        assign[rsums == 0] = 'Negative'\n",
    " \n",
    "        seurat@meta.data[colnames(sub), 'hash'] = assign\n",
    "\n",
    "        pheatmap::pheatmap(t(data), annotation_row = data.frame(row.names = colnames(data), id = factor(assign)), filename = paste0(curr, '.png'), show_rownames = FALSE)\n",
    "\n",
    "        \n",
    "    }\n",
    "}"
   ]
  },
  {
   "cell_type": "code",
   "execution_count": 11,
   "metadata": {},
   "outputs": [],
   "source": [
    "saveRDS(seurat, 'hashed_seurat.RDS')"
   ]
  },
  {
   "cell_type": "code",
   "execution_count": 12,
   "metadata": {},
   "outputs": [],
   "source": [
    "saveRDS(seurat@meta.data, 'hashed_metadata.rds')"
   ]
  }
 ],
 "metadata": {
  "kernelspec": {
   "display_name": "Rv4",
   "language": "R",
   "name": "ir4"
  },
  "language_info": {
   "codemirror_mode": "r",
   "file_extension": ".r",
   "mimetype": "text/x-r-source",
   "name": "R",
   "pygments_lexer": "r",
   "version": "4.1.0"
  }
 },
 "nbformat": 4,
 "nbformat_minor": 4
}
