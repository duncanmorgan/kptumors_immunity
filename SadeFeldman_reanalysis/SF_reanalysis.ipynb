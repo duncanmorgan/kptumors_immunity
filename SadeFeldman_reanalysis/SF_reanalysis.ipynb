{
 "cells": [
  {
   "cell_type": "code",
   "execution_count": 1,
   "metadata": {},
   "outputs": [
    {
     "name": "stderr",
     "output_type": "stream",
     "text": [
      "Warning message:\n",
      "\"package 'Seurat' was built under R version 4.1.3\"\n",
      "Attaching SeuratObject\n",
      "\n",
      "Attaching sp\n",
      "\n"
     ]
    }
   ],
   "source": [
    "library(Seurat)\n",
    "seurat = readRDS('GSE120575_8.RDS')"
   ]
  },
  {
   "cell_type": "code",
   "execution_count": 2,
   "metadata": {},
   "outputs": [
    {
     "name": "stderr",
     "output_type": "stream",
     "text": [
      "Loading required package: ggplot2\n",
      "\n"
     ]
    }
   ],
   "source": [
    "source(\"L:/Duncan/kptumors_figures/figure_parameters.R\")\n",
    "Axis_themes = Axis_themes + theme(plot.title = element_text(size = 6),\n",
    "                     axis.title = element_text(size = 6), \n",
    "                     axis.text = element_text(size = 6),\n",
    "                     axis.text.x = element_text(size = 6),\n",
    "                     legend.text = element_text(size =6),\n",
    "                     legend.title = element_text(size =6 ),\n",
    "                     strip.text.x = element_text(size = 6), \n",
    "                     axis.line =element_line(size = .1167), \n",
    "                     axis.ticks = element_line(size = .1167)) \n",
    "\n",
    "UMAP_theme = theme_bw()+theme(axis.text.y = element_blank(), \n",
    "                               axis.text.x = element_blank(), \n",
    "                               axis.ticks.x= element_blank(),\n",
    "                               axis.ticks.y= element_blank(),\n",
    "                               axis.title.x= element_blank(),\n",
    "                               axis.title.y= element_blank(),\n",
    "                               strip.text.x = element_text(size = 8),\n",
    "                               panel.grid.major = element_blank(),\n",
    "                               panel.grid.minor = element_blank(),\n",
    "                               panel.border = element_blank(),\n",
    "                               panel.background = element_rect(colour = \"black\", fill = NA,size=.25),\n",
    "                               legend.position = \"none\",\n",
    "                               plot.title = element_text(hjust = 0.5, size = 8))"
   ]
  },
  {
   "cell_type": "code",
   "execution_count": 3,
   "metadata": {},
   "outputs": [
    {
     "data": {
      "text/html": [
       "<table class=\"dataframe\">\n",
       "<caption>A data.frame: 6 × 14</caption>\n",
       "<thead>\n",
       "\t<tr><th></th><th scope=col>X.</th><th scope=col>Patient.ID</th><th scope=col>Gender..F.M.</th><th scope=col>Age</th><th scope=col>Therapy</th><th scope=col>Clinical.response..RECIST..R.CR..PR..NR.SD..PD.</th><th scope=col>Baseline.Biopsy..days.from.baseline..site..lesion.response.</th><th scope=col>Post.I.biopsy..days.from.baseline..site..lesion.response.</th><th scope=col>Post.II.biopsy..days.from.baseline..site..lesion.response.</th><th scope=col>WES</th><th scope=col>Overall.survival..days.</th><th scope=col>Status..Alive.0..Dead.1.</th><th scope=col>Mutations.indels.in.known.melanoma.drivers</th><th scope=col>Mutations.indels.in.antigen.presentation.and.or.interferon.gamma.pathways</th></tr>\n",
       "\t<tr><th></th><th scope=col>&lt;int&gt;</th><th scope=col>&lt;chr&gt;</th><th scope=col>&lt;chr&gt;</th><th scope=col>&lt;int&gt;</th><th scope=col>&lt;chr&gt;</th><th scope=col>&lt;chr&gt;</th><th scope=col>&lt;chr&gt;</th><th scope=col>&lt;chr&gt;</th><th scope=col>&lt;chr&gt;</th><th scope=col>&lt;chr&gt;</th><th scope=col>&lt;int&gt;</th><th scope=col>&lt;int&gt;</th><th scope=col>&lt;chr&gt;</th><th scope=col>&lt;chr&gt;</th></tr>\n",
       "</thead>\n",
       "<tbody>\n",
       "\t<tr><th scope=row>P1</th><td>1</td><td>P1</td><td>M</td><td>49</td><td>CTLA4 (baseline); PD1 (post I and II)</td><td>Resistance                   </td><td>0; right chest; regression                       </td><td>48; anterior neck; regression                                                                  </td><td>437; anterior neck; progression      </td><td>Y</td><td>822</td><td>0</td><td>BRAF, CDKN2A                </td><td>IFI16, IFIH1, STAT4                  </td></tr>\n",
       "\t<tr><th scope=row>P2</th><td>2</td><td>P2</td><td>M</td><td>75</td><td>PD1                                  </td><td>NR                           </td><td>0; small bowel; progression                      </td><td>35; left axilla; progression                                                                   </td><td>NA                                   </td><td>Y</td><td>347</td><td>1</td><td>BRAF, PTEN                  </td><td>ND                                   </td></tr>\n",
       "\t<tr><th scope=row>P3</th><td>3</td><td>P3</td><td>F</td><td>83</td><td>PD1                                  </td><td>NR                           </td><td>0; right anterior lower leg; progression         </td><td>63; right distal anterior thigh; progression                                                   </td><td>161; right anterior knee; progression</td><td>Y</td><td>521</td><td>1</td><td>HRAS, NRAS, RPTN, TP53, TPTE</td><td>IFNA2, IL21R, IL2RB, STAT4, TYK2, B2M</td></tr>\n",
       "\t<tr><th scope=row>P4</th><td>4</td><td>P4</td><td>M</td><td>29</td><td>CTLA4+PD1                            </td><td>R                            </td><td>(-2); left shoulder; progression prior to therapy</td><td>35; left shoulder; regression                                                                  </td><td>NA                                   </td><td>Y</td><td>539</td><td>0</td><td>BRAF, CDKN2A, TPTE          </td><td>ND                                   </td></tr>\n",
       "\t<tr><th scope=row>P5</th><td>5</td><td>P5</td><td>M</td><td>33</td><td>PD1                                  </td><td>NR (patient had mix response)</td><td>NA                                               </td><td>199; Post_P#5- right iliac soft tissue mass; progression. Post_P#5_2- right buttock; regression</td><td>NA                                   </td><td>Y</td><td>369</td><td>1</td><td>BRAF, TP53                  </td><td>ND                                   </td></tr>\n",
       "\t<tr><th scope=row>P6</th><td>6</td><td>P6</td><td>F</td><td>66</td><td>CTLA4 (baseline) ; PD1 (post I)      </td><td>NR                           </td><td>(-70); left upper back; progression              </td><td>270; right colectomy mass in cecum; progression                                                </td><td>NA                                   </td><td>Y</td><td>777</td><td>0</td><td>BRAF, NRAS                  </td><td>CANX, PTK2                           </td></tr>\n",
       "</tbody>\n",
       "</table>\n"
      ],
      "text/latex": [
       "A data.frame: 6 × 14\n",
       "\\begin{tabular}{r|llllllllllllll}\n",
       "  & X. & Patient.ID & Gender..F.M. & Age & Therapy & Clinical.response..RECIST..R.CR..PR..NR.SD..PD. & Baseline.Biopsy..days.from.baseline..site..lesion.response. & Post.I.biopsy..days.from.baseline..site..lesion.response. & Post.II.biopsy..days.from.baseline..site..lesion.response. & WES & Overall.survival..days. & Status..Alive.0..Dead.1. & Mutations.indels.in.known.melanoma.drivers & Mutations.indels.in.antigen.presentation.and.or.interferon.gamma.pathways\\\\\n",
       "  & <int> & <chr> & <chr> & <int> & <chr> & <chr> & <chr> & <chr> & <chr> & <chr> & <int> & <int> & <chr> & <chr>\\\\\n",
       "\\hline\n",
       "\tP1 & 1 & P1 & M & 49 & CTLA4 (baseline); PD1 (post I and II) & Resistance                    & 0; right chest; regression                        & 48; anterior neck; regression                                                                   & 437; anterior neck; progression       & Y & 822 & 0 & BRAF, CDKN2A                 & IFI16, IFIH1, STAT4                  \\\\\n",
       "\tP2 & 2 & P2 & M & 75 & PD1                                   & NR                            & 0; small bowel; progression                       & 35; left axilla; progression                                                                    & NA                                    & Y & 347 & 1 & BRAF, PTEN                   & ND                                   \\\\\n",
       "\tP3 & 3 & P3 & F & 83 & PD1                                   & NR                            & 0; right anterior lower leg; progression          & 63; right distal anterior thigh; progression                                                    & 161; right anterior knee; progression & Y & 521 & 1 & HRAS, NRAS, RPTN, TP53, TPTE & IFNA2, IL21R, IL2RB, STAT4, TYK2, B2M\\\\\n",
       "\tP4 & 4 & P4 & M & 29 & CTLA4+PD1                             & R                             & (-2); left shoulder; progression prior to therapy & 35; left shoulder; regression                                                                   & NA                                    & Y & 539 & 0 & BRAF, CDKN2A, TPTE           & ND                                   \\\\\n",
       "\tP5 & 5 & P5 & M & 33 & PD1                                   & NR (patient had mix response) & NA                                                & 199; Post\\_P\\#5- right iliac soft tissue mass; progression. Post\\_P\\#5\\_2- right buttock; regression & NA                                    & Y & 369 & 1 & BRAF, TP53                   & ND                                   \\\\\n",
       "\tP6 & 6 & P6 & F & 66 & CTLA4 (baseline) ; PD1 (post I)       & NR                            & (-70); left upper back; progression               & 270; right colectomy mass in cecum; progression                                                 & NA                                    & Y & 777 & 0 & BRAF, NRAS                   & CANX, PTK2                           \\\\\n",
       "\\end{tabular}\n"
      ],
      "text/markdown": [
       "\n",
       "A data.frame: 6 × 14\n",
       "\n",
       "| <!--/--> | X. &lt;int&gt; | Patient.ID &lt;chr&gt; | Gender..F.M. &lt;chr&gt; | Age &lt;int&gt; | Therapy &lt;chr&gt; | Clinical.response..RECIST..R.CR..PR..NR.SD..PD. &lt;chr&gt; | Baseline.Biopsy..days.from.baseline..site..lesion.response. &lt;chr&gt; | Post.I.biopsy..days.from.baseline..site..lesion.response. &lt;chr&gt; | Post.II.biopsy..days.from.baseline..site..lesion.response. &lt;chr&gt; | WES &lt;chr&gt; | Overall.survival..days. &lt;int&gt; | Status..Alive.0..Dead.1. &lt;int&gt; | Mutations.indels.in.known.melanoma.drivers &lt;chr&gt; | Mutations.indels.in.antigen.presentation.and.or.interferon.gamma.pathways &lt;chr&gt; |\n",
       "|---|---|---|---|---|---|---|---|---|---|---|---|---|---|---|\n",
       "| P1 | 1 | P1 | M | 49 | CTLA4 (baseline); PD1 (post I and II) | Resistance                    | 0; right chest; regression                        | 48; anterior neck; regression                                                                   | 437; anterior neck; progression       | Y | 822 | 0 | BRAF, CDKN2A                 | IFI16, IFIH1, STAT4                   |\n",
       "| P2 | 2 | P2 | M | 75 | PD1                                   | NR                            | 0; small bowel; progression                       | 35; left axilla; progression                                                                    | NA                                    | Y | 347 | 1 | BRAF, PTEN                   | ND                                    |\n",
       "| P3 | 3 | P3 | F | 83 | PD1                                   | NR                            | 0; right anterior lower leg; progression          | 63; right distal anterior thigh; progression                                                    | 161; right anterior knee; progression | Y | 521 | 1 | HRAS, NRAS, RPTN, TP53, TPTE | IFNA2, IL21R, IL2RB, STAT4, TYK2, B2M |\n",
       "| P4 | 4 | P4 | M | 29 | CTLA4+PD1                             | R                             | (-2); left shoulder; progression prior to therapy | 35; left shoulder; regression                                                                   | NA                                    | Y | 539 | 0 | BRAF, CDKN2A, TPTE           | ND                                    |\n",
       "| P5 | 5 | P5 | M | 33 | PD1                                   | NR (patient had mix response) | NA                                                | 199; Post_P#5- right iliac soft tissue mass; progression. Post_P#5_2- right buttock; regression | NA                                    | Y | 369 | 1 | BRAF, TP53                   | ND                                    |\n",
       "| P6 | 6 | P6 | F | 66 | CTLA4 (baseline) ; PD1 (post I)       | NR                            | (-70); left upper back; progression               | 270; right colectomy mass in cecum; progression                                                 | NA                                    | Y | 777 | 0 | BRAF, NRAS                   | CANX, PTK2                            |\n",
       "\n"
      ],
      "text/plain": [
       "   X. Patient.ID Gender..F.M. Age Therapy                              \n",
       "P1 1  P1         M            49  CTLA4 (baseline); PD1 (post I and II)\n",
       "P2 2  P2         M            75  PD1                                  \n",
       "P3 3  P3         F            83  PD1                                  \n",
       "P4 4  P4         M            29  CTLA4+PD1                            \n",
       "P5 5  P5         M            33  PD1                                  \n",
       "P6 6  P6         F            66  CTLA4 (baseline) ; PD1 (post I)      \n",
       "   Clinical.response..RECIST..R.CR..PR..NR.SD..PD.\n",
       "P1 Resistance                                     \n",
       "P2 NR                                             \n",
       "P3 NR                                             \n",
       "P4 R                                              \n",
       "P5 NR (patient had mix response)                  \n",
       "P6 NR                                             \n",
       "   Baseline.Biopsy..days.from.baseline..site..lesion.response.\n",
       "P1 0; right chest; regression                                 \n",
       "P2 0; small bowel; progression                                \n",
       "P3 0; right anterior lower leg; progression                   \n",
       "P4 (-2); left shoulder; progression prior to therapy          \n",
       "P5 NA                                                         \n",
       "P6 (-70); left upper back; progression                        \n",
       "   Post.I.biopsy..days.from.baseline..site..lesion.response.                                      \n",
       "P1 48; anterior neck; regression                                                                  \n",
       "P2 35; left axilla; progression                                                                   \n",
       "P3 63; right distal anterior thigh; progression                                                   \n",
       "P4 35; left shoulder; regression                                                                  \n",
       "P5 199; Post_P#5- right iliac soft tissue mass; progression. Post_P#5_2- right buttock; regression\n",
       "P6 270; right colectomy mass in cecum; progression                                                \n",
       "   Post.II.biopsy..days.from.baseline..site..lesion.response. WES\n",
       "P1 437; anterior neck; progression                            Y  \n",
       "P2 NA                                                         Y  \n",
       "P3 161; right anterior knee; progression                      Y  \n",
       "P4 NA                                                         Y  \n",
       "P5 NA                                                         Y  \n",
       "P6 NA                                                         Y  \n",
       "   Overall.survival..days. Status..Alive.0..Dead.1.\n",
       "P1 822                     0                       \n",
       "P2 347                     1                       \n",
       "P3 521                     1                       \n",
       "P4 539                     0                       \n",
       "P5 369                     1                       \n",
       "P6 777                     0                       \n",
       "   Mutations.indels.in.known.melanoma.drivers\n",
       "P1 BRAF, CDKN2A                              \n",
       "P2 BRAF, PTEN                                \n",
       "P3 HRAS, NRAS, RPTN, TP53, TPTE              \n",
       "P4 BRAF, CDKN2A, TPTE                        \n",
       "P5 BRAF, TP53                                \n",
       "P6 BRAF, NRAS                                \n",
       "   Mutations.indels.in.antigen.presentation.and.or.interferon.gamma.pathways\n",
       "P1 IFI16, IFIH1, STAT4                                                      \n",
       "P2 ND                                                                       \n",
       "P3 IFNA2, IL21R, IL2RB, STAT4, TYK2, B2M                                    \n",
       "P4 ND                                                                       \n",
       "P5 ND                                                                       \n",
       "P6 CANX, PTK2                                                               "
      ]
     },
     "metadata": {},
     "output_type": "display_data"
    },
    {
     "data": {
      "text/plain": [
       "\n",
       "                           NR NR (patient had mix response) \n",
       "                           15                             4 \n",
       "                            R                    Resistance \n",
       "                           11                             2 "
      ]
     },
     "metadata": {},
     "output_type": "display_data"
    }
   ],
   "source": [
    "metadata = read.csv('metadata.csv')\n",
    "rownames(metadata) = metadata$Patient.ID\n",
    "head(metadata)\n",
    "table(metadata$Clinical.response..RECIST..R.CR..PR..NR.SD..PD.\t)"
   ]
  },
  {
   "cell_type": "code",
   "execution_count": 4,
   "metadata": {},
   "outputs": [
    {
     "data": {
      "text/html": [
       "<table class=\"dataframe\">\n",
       "<caption>A data.frame: 6 × 11</caption>\n",
       "<thead>\n",
       "\t<tr><th></th><th scope=col>Sample.name</th><th scope=col>title</th><th scope=col>source.name</th><th scope=col>organism</th><th scope=col>characteristics..patinet.ID..Pre.baseline..Post..on.treatment.</th><th scope=col>characteristics..response</th><th scope=col>characteristics..therapy</th><th scope=col>molecule</th><th scope=col>description</th><th scope=col>processed.data.file</th><th scope=col>raw.file</th></tr>\n",
       "\t<tr><th></th><th scope=col>&lt;chr&gt;</th><th scope=col>&lt;chr&gt;</th><th scope=col>&lt;chr&gt;</th><th scope=col>&lt;chr&gt;</th><th scope=col>&lt;chr&gt;</th><th scope=col>&lt;chr&gt;</th><th scope=col>&lt;chr&gt;</th><th scope=col>&lt;lgl&gt;</th><th scope=col>&lt;lgl&gt;</th><th scope=col>&lt;lgl&gt;</th><th scope=col>&lt;lgl&gt;</th></tr>\n",
       "</thead>\n",
       "<tbody>\n",
       "\t<tr><th scope=row>A10_P3_M11</th><td>Sample 1</td><td>A10_P3_M11</td><td>Melanoma single cell</td><td>Homo sapiens</td><td>Pre_P1</td><td>Responder</td><td>anti.CTLA4</td><td>NA</td><td>NA</td><td>NA</td><td>NA</td></tr>\n",
       "\t<tr><th scope=row>A11_P1_M11</th><td>Sample 2</td><td>A11_P1_M11</td><td>Melanoma single cell</td><td>Homo sapiens</td><td>Pre_P1</td><td>Responder</td><td>anti.CTLA4</td><td>NA</td><td>NA</td><td>NA</td><td>NA</td></tr>\n",
       "\t<tr><th scope=row>A11_P3_M11</th><td>Sample 3</td><td>A11_P3_M11</td><td>Melanoma single cell</td><td>Homo sapiens</td><td>Pre_P1</td><td>Responder</td><td>anti.CTLA4</td><td>NA</td><td>NA</td><td>NA</td><td>NA</td></tr>\n",
       "\t<tr><th scope=row>A11_P4_M11</th><td>Sample 4</td><td>A11_P4_M11</td><td>Melanoma single cell</td><td>Homo sapiens</td><td>Pre_P1</td><td>Responder</td><td>anti.CTLA4</td><td>NA</td><td>NA</td><td>NA</td><td>NA</td></tr>\n",
       "\t<tr><th scope=row>A12_P3_M11</th><td>Sample 5</td><td>A12_P3_M11</td><td>Melanoma single cell</td><td>Homo sapiens</td><td>Pre_P1</td><td>Responder</td><td>anti.CTLA4</td><td>NA</td><td>NA</td><td>NA</td><td>NA</td></tr>\n",
       "\t<tr><th scope=row>A12_P6_M11</th><td>Sample 6</td><td>A12_P6_M11</td><td>Melanoma single cell</td><td>Homo sapiens</td><td>Pre_P1</td><td>Responder</td><td>anti.CTLA4</td><td>NA</td><td>NA</td><td>NA</td><td>NA</td></tr>\n",
       "</tbody>\n",
       "</table>\n"
      ],
      "text/latex": [
       "A data.frame: 6 × 11\n",
       "\\begin{tabular}{r|lllllllllll}\n",
       "  & Sample.name & title & source.name & organism & characteristics..patinet.ID..Pre.baseline..Post..on.treatment. & characteristics..response & characteristics..therapy & molecule & description & processed.data.file & raw.file\\\\\n",
       "  & <chr> & <chr> & <chr> & <chr> & <chr> & <chr> & <chr> & <lgl> & <lgl> & <lgl> & <lgl>\\\\\n",
       "\\hline\n",
       "\tA10\\_P3\\_M11 & Sample 1 & A10\\_P3\\_M11 & Melanoma single cell & Homo sapiens & Pre\\_P1 & Responder & anti.CTLA4 & NA & NA & NA & NA\\\\\n",
       "\tA11\\_P1\\_M11 & Sample 2 & A11\\_P1\\_M11 & Melanoma single cell & Homo sapiens & Pre\\_P1 & Responder & anti.CTLA4 & NA & NA & NA & NA\\\\\n",
       "\tA11\\_P3\\_M11 & Sample 3 & A11\\_P3\\_M11 & Melanoma single cell & Homo sapiens & Pre\\_P1 & Responder & anti.CTLA4 & NA & NA & NA & NA\\\\\n",
       "\tA11\\_P4\\_M11 & Sample 4 & A11\\_P4\\_M11 & Melanoma single cell & Homo sapiens & Pre\\_P1 & Responder & anti.CTLA4 & NA & NA & NA & NA\\\\\n",
       "\tA12\\_P3\\_M11 & Sample 5 & A12\\_P3\\_M11 & Melanoma single cell & Homo sapiens & Pre\\_P1 & Responder & anti.CTLA4 & NA & NA & NA & NA\\\\\n",
       "\tA12\\_P6\\_M11 & Sample 6 & A12\\_P6\\_M11 & Melanoma single cell & Homo sapiens & Pre\\_P1 & Responder & anti.CTLA4 & NA & NA & NA & NA\\\\\n",
       "\\end{tabular}\n"
      ],
      "text/markdown": [
       "\n",
       "A data.frame: 6 × 11\n",
       "\n",
       "| <!--/--> | Sample.name &lt;chr&gt; | title &lt;chr&gt; | source.name &lt;chr&gt; | organism &lt;chr&gt; | characteristics..patinet.ID..Pre.baseline..Post..on.treatment. &lt;chr&gt; | characteristics..response &lt;chr&gt; | characteristics..therapy &lt;chr&gt; | molecule &lt;lgl&gt; | description &lt;lgl&gt; | processed.data.file &lt;lgl&gt; | raw.file &lt;lgl&gt; |\n",
       "|---|---|---|---|---|---|---|---|---|---|---|---|\n",
       "| A10_P3_M11 | Sample 1 | A10_P3_M11 | Melanoma single cell | Homo sapiens | Pre_P1 | Responder | anti.CTLA4 | NA | NA | NA | NA |\n",
       "| A11_P1_M11 | Sample 2 | A11_P1_M11 | Melanoma single cell | Homo sapiens | Pre_P1 | Responder | anti.CTLA4 | NA | NA | NA | NA |\n",
       "| A11_P3_M11 | Sample 3 | A11_P3_M11 | Melanoma single cell | Homo sapiens | Pre_P1 | Responder | anti.CTLA4 | NA | NA | NA | NA |\n",
       "| A11_P4_M11 | Sample 4 | A11_P4_M11 | Melanoma single cell | Homo sapiens | Pre_P1 | Responder | anti.CTLA4 | NA | NA | NA | NA |\n",
       "| A12_P3_M11 | Sample 5 | A12_P3_M11 | Melanoma single cell | Homo sapiens | Pre_P1 | Responder | anti.CTLA4 | NA | NA | NA | NA |\n",
       "| A12_P6_M11 | Sample 6 | A12_P6_M11 | Melanoma single cell | Homo sapiens | Pre_P1 | Responder | anti.CTLA4 | NA | NA | NA | NA |\n",
       "\n"
      ],
      "text/plain": [
       "           Sample.name title      source.name          organism    \n",
       "A10_P3_M11 Sample 1    A10_P3_M11 Melanoma single cell Homo sapiens\n",
       "A11_P1_M11 Sample 2    A11_P1_M11 Melanoma single cell Homo sapiens\n",
       "A11_P3_M11 Sample 3    A11_P3_M11 Melanoma single cell Homo sapiens\n",
       "A11_P4_M11 Sample 4    A11_P4_M11 Melanoma single cell Homo sapiens\n",
       "A12_P3_M11 Sample 5    A12_P3_M11 Melanoma single cell Homo sapiens\n",
       "A12_P6_M11 Sample 6    A12_P6_M11 Melanoma single cell Homo sapiens\n",
       "           characteristics..patinet.ID..Pre.baseline..Post..on.treatment.\n",
       "A10_P3_M11 Pre_P1                                                        \n",
       "A11_P1_M11 Pre_P1                                                        \n",
       "A11_P3_M11 Pre_P1                                                        \n",
       "A11_P4_M11 Pre_P1                                                        \n",
       "A12_P3_M11 Pre_P1                                                        \n",
       "A12_P6_M11 Pre_P1                                                        \n",
       "           characteristics..response characteristics..therapy molecule\n",
       "A10_P3_M11 Responder                 anti.CTLA4               NA      \n",
       "A11_P1_M11 Responder                 anti.CTLA4               NA      \n",
       "A11_P3_M11 Responder                 anti.CTLA4               NA      \n",
       "A11_P4_M11 Responder                 anti.CTLA4               NA      \n",
       "A12_P3_M11 Responder                 anti.CTLA4               NA      \n",
       "A12_P6_M11 Responder                 anti.CTLA4               NA      \n",
       "           description processed.data.file raw.file\n",
       "A10_P3_M11 NA          NA                  NA      \n",
       "A11_P1_M11 NA          NA                  NA      \n",
       "A11_P3_M11 NA          NA                  NA      \n",
       "A11_P4_M11 NA          NA                  NA      \n",
       "A12_P3_M11 NA          NA                  NA      \n",
       "A12_P6_M11 NA          NA                  NA      "
      ]
     },
     "metadata": {},
     "output_type": "display_data"
    }
   ],
   "source": [
    "samples = read.csv('sample_sheet.csv')\n",
    "rownames(samples) = samples$title\n",
    "\n",
    "head(samples)"
   ]
  },
  {
   "cell_type": "code",
   "execution_count": 5,
   "metadata": {},
   "outputs": [],
   "source": [
    "library(stringr)\n",
    "seurat@meta.data$patient = samples[rownames(seurat@meta.data), 'characteristics..patinet.ID..Pre.baseline..Post..on.treatment.']\n",
    "seurat@meta.data$patient = sapply(seurat@meta.data$patient, function(x) str_split(x, '_')[[1]][2])\n",
    "seurat@meta.data$response = metadata[seurat@meta.data$patient, 6]\n",
    "                                  \n",
    "                      \n",
    "                                  "
   ]
  },
  {
   "cell_type": "code",
   "execution_count": 6,
   "metadata": {},
   "outputs": [],
   "source": [
    "treg = subset(seurat, cells = colnames(seurat)[Idents(seurat) == 2])"
   ]
  },
  {
   "cell_type": "code",
   "execution_count": 7,
   "metadata": {},
   "outputs": [
    {
     "name": "stderr",
     "output_type": "stream",
     "text": [
      "Warning message:\n",
      "\"package 'GSA' was built under R version 4.1.3\"\n"
     ]
    },
    {
     "name": "stdout",
     "output_type": "stream",
     "text": [
      "12345678910111213141516171819202122232425262728293031323334353637383940414243444546474849501\n",
      "2\n",
      "3\n",
      "4\n",
      "5\n",
      "6\n",
      "7\n",
      "8\n",
      "9\n",
      "10\n",
      "11\n",
      "12\n",
      "13\n",
      "14\n",
      "15\n",
      "16\n",
      "17\n",
      "18\n",
      "19\n",
      "20\n",
      "21\n",
      "22\n",
      "23\n",
      "24\n",
      "25\n",
      "26\n",
      "27\n",
      "28\n",
      "29\n",
      "30\n",
      "31\n",
      "32\n",
      "33\n",
      "34\n",
      "35\n",
      "36\n",
      "37\n",
      "38\n",
      "39\n",
      "40\n",
      "41\n",
      "42\n",
      "43\n",
      "44\n",
      "45\n",
      "46\n",
      "47\n",
      "48\n",
      "49\n"
     ]
    },
    {
     "name": "stderr",
     "output_type": "stream",
     "text": [
      "Warning message:\n",
      "\"The following features are not present in the object: ADIG, ATP5PO, CAVIN1, CAVIN2, GPAT4, MARC2, MIGA2, SQOR, not searching for symbol synonyms\"\n",
      "Warning message:\n",
      "\"The following features are not present in the object: CARTPT, CCL11, FYB1, IL9, not searching for symbol synonyms\"\n",
      "Warning message:\n",
      "\"The following features are not present in the object: AL162171.1, GUCY1A1, PLPP1, SELENOP, not searching for symbol synonyms\"\n",
      "Warning message:\n",
      "\"The following features are not present in the object: APOH, not searching for symbol synonyms\"\n",
      "Warning message:\n",
      "\"The following features are not present in the object: ADRA1B, CLDN6, CLDN8, FYB1, MAP3K20, NECTIN1, NECTIN2, NECTIN3, NECTIN4, PECAM1, not searching for symbol synonyms\"\n",
      "Warning message:\n",
      "\"The following features are not present in the object: CRYBG1, not searching for symbol synonyms\"\n",
      "Warning message:\n",
      "\"The following features are not present in the object: AVPR1A, IFNB1, PLPPR4, not searching for symbol synonyms\"\n",
      "Warning message:\n",
      "\"The following features are not present in the object: HAO1, SERPINA6, TTR, not searching for symbol synonyms\"\n",
      "Warning message:\n",
      "\"The following features are not present in the object: AVPR1A, SEMA3B, not searching for symbol synonyms\"\n",
      "Warning message:\n",
      "\"The following features are not present in the object: F9, GP9, KLK8, MMP10, PECAM1, not searching for symbol synonyms\"\n",
      "Warning message:\n",
      "\"The following features are not present in the object: APOA4, GP9, MMP12, RBSN, not searching for symbol synonyms\"\n",
      "Warning message:\n",
      "\"The following features are not present in the object: AC139530.1, ELOA, GSDME, not searching for symbol synonyms\"\n",
      "Warning message:\n",
      "\"The following features are not present in the object: CNOT9, JPT1, MRE11, not searching for symbol synonyms\"\n",
      "Warning message:\n",
      "\"The following features are not present in the object: CCN1, CCN2, CXCL8, DKK1, FOXC2, FZD8, P3H1, PRSS2, VEGFC, not searching for symbol synonyms\"\n",
      "Warning message:\n",
      "\"The following features are not present in the object: CCN5, FCMR, KCNK15, MINDY1, OVOL2, PLAAT3, RETREG1, SEMA3B, SOX3, TFF1, TFF3, not searching for symbol synonyms\"\n",
      "Warning message:\n",
      "\"The following features are not present in the object: CCN5, GAL, LARGE1, OVOL2, PCP4, PLAAT3, SEMA3B, SOX3, TFF1, TFF3, not searching for symbol synonyms\"\n",
      "Warning message:\n",
      "\"The following features are not present in the object: ADH1C, ADH7, CA4, HAO2, KMT5A, XIST, not searching for symbol synonyms\"\n",
      "Warning message:\n",
      "\"The following features are not present in the object: AC027237.1, AC091021.1, CASP8AP2, JPT1, KMT5A, KNL1, MAP3K20, NSD2, PTTG3P, TENT4A, not searching for symbol synonyms\"\n",
      "Warning message:\n",
      "\"The following features are not present in the object: AC010618.1, AC074143.1, ERO1A, FBP2, TFF3, not searching for symbol synonyms\"\n",
      "Warning message:\n",
      "\"The following features are not present in the object: ADGRG1, not searching for symbol synonyms\"\n",
      "Warning message:\n",
      "\"The following features are not present in the object: AC010618.1, AC092338.1, ACKR1, CROCCP2, HBBP1, HBQ1, HBZ, KDM7A, MARCH2, MARCH8, RHAG, TENT5C, not searching for symbol synonyms\"\n",
      "Warning message:\n",
      "\"The following features are not present in the object: CAVIN1, CAVIN3, CCN1, CCN2, CCN5, EDN2, ERO1A, LARGE1, NOCT, STBD1, not searching for symbol synonyms\"\n",
      "Warning message:\n",
      "\"The following features are not present in the object: EEF1AKMT1, ETFBKMT, GUCY1B1, PLPP1, not searching for symbol synonyms\"\n",
      "Warning message:\n",
      "\"The following features are not present in the object: AC005840.1, PLA2G2A, REG1A, not searching for symbol synonyms\"\n",
      "Warning message:\n",
      "\"The following features are not present in the object: ADGRE1, CXCL8, SELENOS, VIP, not searching for symbol synonyms\"\n",
      "Warning message:\n",
      "\"The following features are not present in the object: AC004551.1, TENT5A, not searching for symbol synonyms\"\n",
      "Warning message:\n",
      "\"The following features are not present in the object: AC124319.1, MARCH1, not searching for symbol synonyms\"\n",
      "Warning message:\n",
      "\"The following features are not present in the object: AMBN, CAPN9, CLDN8, CLPS, COQ8A, CPA2, EDN2, FGF16, HTR1B, INSL5, KLK8, NGB, PRKN, SCGB1A1, SELENOP, SLC38A3, SMPX, SNCB, TENT5C, TFF2, TNNI3, TSHB, VPS50, not searching for symbol synonyms\"\n",
      "Warning message:\n",
      "\"The following features are not present in the object: ADGRA2, ADGRL4, BTC, CFHR2, ERO1A, GUCY1A1, HOXD11, MMP10, NGF, PCP4, PECAM1, PRELID3B, SEMA3B, SPON1, not searching for symbol synonyms\"\n",
      "Warning message:\n",
      "\"The following features are not present in the object: AC027237.1, CEP131, SEPT9, not searching for symbol synonyms\"\n",
      "Warning message:\n",
      "\"The following features are not present in the object: ATP5MC1, ERO1A, not searching for symbol synonyms\"\n",
      "Warning message:\n",
      "\"The following features are not present in the object: AC004086.1, RACK1, TOMM70, not searching for symbol synonyms\"\n",
      "Warning message:\n",
      "\"The following features are not present in the object: ANKRD2, COX6A2, CSRP3, HSPB2, LARGE1, MYF6, MYL1, MYL7, SLN, SOD3, not searching for symbol synonyms\"\n",
      "Warning message:\n",
      "\"The following features are not present in the object: ATP5F1A, ATP5F1B, ATP5F1C, ATP5F1D, ATP5F1E, ATP5MC1, ATP5MC2, ATP5MC3, ATP5ME, ATP5MF, ATP5MG, ATP5PB, ATP5PD, ATP5PF, ATP5PO, TOMM70, not searching for symbol synonyms\"\n",
      "Warning message:\n",
      "\"The following features are not present in the object: CEBPA, COQ8A, ELP1, KLK8, PIDD1, PVT1, RACK1, not searching for symbol synonyms\"\n",
      "Warning message:\n",
      "\"The following features are not present in the object: GCG, INS, SCGN, SST, not searching for symbol synonyms\"\n",
      "Warning message:\n",
      "\"The following features are not present in the object: FABP6, HAO2, SCGB1A1, SERPINA6, TTR, not searching for symbol synonyms\"\n",
      "Warning message:\n",
      "\"The following features are not present in the object: FGF6, GRK2, NGF, not searching for symbol synonyms\"\n",
      "Warning message:\n",
      "\"The following features are not present in the object: DOP1A, SEC22B, TSPAN8, not searching for symbol synonyms\"\n",
      "Warning message:\n",
      "\"The following features are not present in the object: PTPA, SELENOS, not searching for symbol synonyms\"\n",
      "Warning message:\n",
      "\"The following features are not present in the object: CRISP2, CST8, HBZ, HIST1H1T, HOXB1, HTR5A, MTNR1A, PDHA2, PRM2, SEPT4, TNNI3, TNP1, ZNRF4, not searching for symbol synonyms\"\n",
      "Warning message:\n",
      "\"The following features are not present in the object: AC129492.1, CCN1, PLPP3, not searching for symbol synonyms\"\n",
      "Warning message:\n",
      "\"The following features are not present in the object: AC092881.1, ERO1A, MTREX, SRPRA, not searching for symbol synonyms\"\n",
      "Warning message:\n",
      "\"The following features are not present in the object: ADGRL2, AL162171.1, CCN1, DMAC2L, PLPP3, TENT4A, TOGARAM1, not searching for symbol synonyms\"\n",
      "Warning message:\n",
      "\"The following features are not present in the object: GAL, NUP58, SELENOW, not searching for symbol synonyms\"\n",
      "Warning message:\n",
      "\"The following features are not present in the object: DKK1, FZD8, not searching for symbol synonyms\"\n",
      "Warning message:\n",
      "\"The following features are not present in the object: ADH1C, ADH7, CYP26A1, GSTA3, MARCH6, REG1A, SERPINA6, TKFC, not searching for symbol synonyms\"\n"
     ]
    }
   ],
   "source": [
    "library(GSA)\n",
    "hallmark = GSA.read.gmt(\"L:/Duncan/eoe_sciimmunol/figures/figure 2/hallmark.gmt\")\n",
    "for (i in 1:length(hallmark$geneset.names)) {\n",
    "  treg = AddModuleScore(treg, features = hallmark[[1]][i], name= hallmark$geneset.names[i])\n",
    "}\n"
   ]
  },
  {
   "cell_type": "code",
   "execution_count": 8,
   "metadata": {},
   "outputs": [
    {
     "name": "stderr",
     "output_type": "stream",
     "text": [
      "Warning message:\n",
      "\"package 'dplyr' was built under R version 4.1.3\"\n",
      "\n",
      "Attaching package: 'dplyr'\n",
      "\n",
      "\n",
      "The following objects are masked from 'package:stats':\n",
      "\n",
      "    filter, lag\n",
      "\n",
      "\n",
      "The following objects are masked from 'package:base':\n",
      "\n",
      "    intersect, setdiff, setequal, union\n",
      "\n",
      "\n",
      "Warning message:\n",
      "\"package 'ggbeeswarm' was built under R version 4.1.3\"\n",
      "\u001b[1m\u001b[22m`summarise()` has grouped output by 'patient'. You can override using the `.groups` argument.\n",
      "Warning message:\n",
      "\"`fun.y` is deprecated. Use `fun` instead.\"\n",
      "Warning message:\n",
      "\"`fun.ymin` is deprecated. Use `fun.min` instead.\"\n",
      "Warning message:\n",
      "\"`fun.ymax` is deprecated. Use `fun.max` instead.\"\n"
     ]
    },
    {
     "data": {
      "image/png": "[encoded data removed]",
      "text/plain": [
       "plot without title"
      ]
     },
     "metadata": {
      "image/png": {
       "height": 187.5,
       "width": 180
      }
     },
     "output_type": "display_data"
    }
   ],
   "source": [
    "library(dplyr)\n",
    "library(ggpubr)\n",
    "library(ggplot2)\n",
    "library(ggbeeswarm)\n",
    "options(repr.plot.res = 300, repr.plot.width = 1.2, repr.plot.height = 1.25)\n",
    "\n",
    "\n",
    "\n",
    "df = treg@meta.data %>%filter(response %in% c('R', 'NR')) %>% group_by(patient,response) %>% summarize(mean = mean(HALLMARK_INTERFERON_GAMMA_RESPONSE1), n = n())\n",
    "g = ggplot(df, aes(x = response, y = mean)) + geom_beeswarm(cex = 7, size = .8)  + stat_compare_means(comparisons = list(c(1,2)), method.args = list(alternative = 'greater'), bracket.size = .1167, tip.length = 0, label = 'p.signif', method = 'wilcox') + theme_classic() + \n",
    "theme(axis.text.x = element_text(angle = 0)) + labs(x = c(), y = 'Mean IFNG score') + \n",
    "scale_x_discrete(limits = c('NR', 'R')) + Axis_themes + scale_y_continuous(expand = expansion(mult = c(0.05, 0.15))) +\n",
    "stat_summary(fun.y = median, fun.ymin = median, fun.ymax = median,\n",
    "                 geom = \"crossbar\", width = 0.5, size = .1167)\n",
    "\n",
    "g$layers[[2]]$aes_params$textsize <- 2.1167\n",
    "g\n",
    "\n",
    "ggsave('ifng.pdf', height =1.25 , width = 1.2, useDingbats = FALSE)"
   ]
  },
  {
   "cell_type": "code",
   "execution_count": 9,
   "metadata": {},
   "outputs": [
    {
     "name": "stderr",
     "output_type": "stream",
     "text": [
      "\u001b[1m\u001b[22m`summarise()` has grouped output by 'patient'. You can override using the `.groups` argument.\n",
      "Warning message:\n",
      "\"`fun.y` is deprecated. Use `fun` instead.\"\n",
      "Warning message:\n",
      "\"`fun.ymin` is deprecated. Use `fun.min` instead.\"\n",
      "Warning message:\n",
      "\"`fun.ymax` is deprecated. Use `fun.max` instead.\"\n"
     ]
    },
    {
     "data": {
      "image/png": "[encoded data removed]",
      "text/plain": [
       "plot without title"
      ]
     },
     "metadata": {
      "image/png": {
       "height": 187.5,
       "width": 180
      }
     },
     "output_type": "display_data"
    }
   ],
   "source": [
    "library(dplyr)\n",
    "library(ggpubr)\n",
    "library(ggplot2)\n",
    "library(ggbeeswarm)\n",
    "options(repr.plot.res = 300, repr.plot.width = 1.2, repr.plot.height = 1.25)\n",
    "\n",
    "\n",
    "\n",
    "df = treg@meta.data %>%filter(response %in% c('R', 'NR')) %>% group_by(patient,response) %>% summarize(mean = mean(HALLMARK_INTERFERON_ALPHA_RESPONSE1), n = n())\n",
    "\n",
    "g2 = ggplot(df, aes(x = response, y = mean)) + geom_beeswarm(cex = 7, size = .8)  + stat_compare_means(comparisons = list(c(1,2)), method.args = list(alternative = 'greater'), bracket.size = .1167, tip.length = 0, method = 'wilcox') + theme_classic() + \n",
    "theme(axis.text.x = element_text(angle = 0)) + labs(x = c(), y = 'Mean IFNA score') + \n",
    "scale_x_discrete(limits = c('NR', 'R')) + Axis_themes + scale_y_continuous(expand = expansion(mult = c(0.05, 0.15))) +\n",
    "stat_summary(fun.y = median, fun.ymin = median, fun.ymax = median,\n",
    "                 geom = \"crossbar\", width = 0.5, size = .1167)\n",
    "\n",
    "g2$layers[[2]]$aes_params$textsize <- 2.1167\n",
    "g2\n",
    "\n",
    "ggsave('ifna.pdf', height =1.25 , width = 1.2, useDingbats = FALSE)"
   ]
  },
  {
   "cell_type": "code",
   "execution_count": 10,
   "metadata": {},
   "outputs": [
    {
     "name": "stderr",
     "output_type": "stream",
     "text": [
      "\u001b[1m\u001b[22m`summarise()` has grouped output by 'patient'. You can override using the `.groups` argument.\n",
      "\u001b[1m\u001b[22m`summarise()` has grouped output by 'patient'. You can override using the `.groups` argument.\n",
      "Warning message:\n",
      "\"`fun.y` is deprecated. Use `fun` instead.\"\n",
      "Warning message:\n",
      "\"`fun.ymin` is deprecated. Use `fun.min` instead.\"\n",
      "Warning message:\n",
      "\"`fun.ymax` is deprecated. Use `fun.max` instead.\"\n",
      "\u001b[1m\u001b[22m`summarise()` has grouped output by 'patient'. You can override using the `.groups` argument.\n",
      "Warning message:\n",
      "\"`fun.y` is deprecated. Use `fun` instead.\"\n",
      "Warning message:\n",
      "\"`fun.ymin` is deprecated. Use `fun.min` instead.\"\n",
      "Warning message:\n",
      "\"`fun.ymax` is deprecated. Use `fun.max` instead.\"\n",
      "Warning message:\n",
      "\"Removed 6 rows containing non-finite values (stat_signif).\"\n",
      "Warning message in wilcox.test.default(c(NA, 0.642857142857143, 0.125, 0.604166666666667, :\n",
      "\"cannot compute exact p-value with ties\"\n",
      "Warning message:\n",
      "\"Removed 6 rows containing non-finite values (stat_summary).\"\n",
      "Warning message:\n",
      "\"Removed 6 rows containing missing values (position_beeswarm).\"\n"
     ]
    },
    {
     "data": {
      "image/png": "[encoded data removed]",
      "text/plain": [
       "plot without title"
      ]
     },
     "metadata": {
      "image/png": {
       "height": 187.5,
       "width": 180
      }
     },
     "output_type": "display_data"
    },
    {
     "name": "stderr",
     "output_type": "stream",
     "text": [
      "Warning message:\n",
      "\"Removed 6 rows containing non-finite values (stat_signif).\"\n",
      "Warning message in wilcox.test.default(c(NA, 0.642857142857143, 0.125, 0.604166666666667, :\n",
      "\"cannot compute exact p-value with ties\"\n",
      "Warning message:\n",
      "\"Removed 6 rows containing non-finite values (stat_summary).\"\n",
      "Warning message:\n",
      "\"Removed 6 rows containing missing values (position_beeswarm).\"\n"
     ]
    },
    {
     "data": {
      "image/png": "[encoded data removed]",
      "text/plain": [
       "plot without title"
      ]
     },
     "metadata": {
      "image/png": {
       "height": 187.5,
       "width": 180
      }
     },
     "output_type": "display_data"
    }
   ],
   "source": [
    "gene = 'CXCR3'\n",
    "treg$gene = GetAssayData(treg)[gene,colnames(treg)]\n",
    "df = treg@meta.data %>% group_by(patient,response) %>% summarize(mean = mean(gene))\n",
    "\n",
    "df = treg@meta.data %>%filter(response %in% c('R', 'NR')) %>% group_by(patient,response) %>% summarize(mean = mean(HALLMARK_INTERFERON_GAMMA_RESPONSE1), n = n())\n",
    "g4 = ggplot(df, aes(x = response, y = mean)) + geom_beeswarm(cex = 7, size = .8)  + stat_compare_means(comparisons = list(c(1,2)), method.args = list(alternative = 'greater', bracket.size = .1167), tip.length = 0, label = 'p.signif', method = 'wilcox') + theme_classic() + \n",
    "theme(axis.text.x = element_text(angle = 0)) + labs(x = c(), y = 'Mean CXCR3') + \n",
    "scale_x_discrete(limits = c('NR', 'R')) + Axis_themes + scale_y_continuous(expand = expansion(mult = c(0.05, 0.15))) +\n",
    "stat_summary(fun.y = median, fun.ymin = median, fun.ymax = median,\n",
    "                 geom = \"crossbar\", width = 0.5, size = .1167)\n",
    "\n",
    "g4$layers[[2]]$aes_params$textsize <- 2.1167\n",
    "g4\n",
    "\n",
    "ggsave('cxcr3_exp.pdf', height =1.25 , width = 1.2, useDingbats = FALSE)\n",
    "\n",
    "df = treg@meta.data %>% group_by(patient,response) %>% summarize(mean = mean(gene > 0))\n",
    "g5 = ggplot(df, aes(x = response, y = mean)) + geom_beeswarm(cex = 7, size = .8)  + stat_compare_means(comparisons = list(c(1,2)), method.args = list(alternative = 'greater'), bracket.size = .1167, tip.length = 0, label = 'p.signif', method = 'wilcox') + theme_classic() + \n",
    "theme(axis.text.x = element_text(angle = 0)) + labs(x = c(), y = 'CXCR3 fraction') + \n",
    "scale_x_discrete(limits = c('NR', 'R')) + Axis_themes + scale_y_continuous(expand = expansion(mult = c(0.05, 0.15))) +\n",
    "stat_summary(fun.y = median, fun.ymin = median, fun.ymax = median,\n",
    "                 geom = \"crossbar\", width = 0.5, size = .1167)\n",
    "\n",
    "g5$layers[[2]]$aes_params$textsize <- 2.1167\n",
    "g5\n",
    "\n",
    "ggsave('cxcr3_frac.pdf', height =1.25 , width = 1.2, useDingbats = FALSE)"
   ]
  },
  {
   "cell_type": "code",
   "execution_count": 11,
   "metadata": {},
   "outputs": [],
   "source": [
    "cd8 = readRDS('GSE120575_6_CD8_wPCA_wClust_wEmbed.rds')"
   ]
  },
  {
   "cell_type": "code",
   "execution_count": 12,
   "metadata": {},
   "outputs": [],
   "source": [
    "cd8@meta.data$patient = seurat@meta.data[rownames(cd8@meta.data), 'patient']\n",
    "cd8@meta.data$resp = seurat@meta.data[rownames(cd8@meta.data), 'response']\n",
    "\n",
    "\n"
   ]
  },
  {
   "cell_type": "code",
   "execution_count": 13,
   "metadata": {},
   "outputs": [
    {
     "name": "stderr",
     "output_type": "stream",
     "text": [
      "\u001b[1m\u001b[22m`summarise()` has grouped output by 'patient'. You can override using the `.groups` argument.\n",
      "Warning message:\n",
      "\"`fun.y` is deprecated. Use `fun` instead.\"\n",
      "Warning message:\n",
      "\"`fun.ymin` is deprecated. Use `fun.min` instead.\"\n",
      "Warning message:\n",
      "\"`fun.ymax` is deprecated. Use `fun.max` instead.\"\n",
      "Warning message:\n",
      "\"Removed 6 rows containing non-finite values (stat_signif).\"\n",
      "Warning message:\n",
      "\"Removed 6 rows containing non-finite values (stat_summary).\"\n",
      "Warning message:\n",
      "\"Removed 6 rows containing missing values (position_beeswarm).\"\n",
      "Warning message:\n",
      "\"Removed 6 rows containing non-finite values (stat_signif).\"\n",
      "Warning message:\n",
      "\"Removed 6 rows containing non-finite values (stat_summary).\"\n",
      "Warning message:\n",
      "\"Removed 6 rows containing missing values (position_beeswarm).\"\n"
     ]
    },
    {
     "data": {
      "image/png": "[encoded data removed]",
      "text/plain": [
       "plot without title"
      ]
     },
     "metadata": {
      "image/png": {
       "height": 187.5,
       "width": 180
      }
     },
     "output_type": "display_data"
    }
   ],
   "source": [
    "options(repr.plot.res = 300, repr.plot.width = 1.2, repr.plot.height = 1.25)\n",
    "\n",
    "seurat@meta.data$cd8 = as.numeric(rownames(seurat@meta.data) %in% rownames(cd8@meta.data))\n",
    "df = seurat@meta.data %>% group_by(patient, response) %>% summarize(treg = sum(RNA_snn_res.0.6 == 2), cd8 = sum(cd8))\n",
    "g6 = ggplot(df, aes(x = response, y = cd8/treg)) + geom_beeswarm(cex = 7, size = .8)  + stat_compare_means(comparisons = list(c(1,2)), method.args = list(alternative = 'greater'), bracket.size = .1167, tip.length = 0, label = 'p.signif', method = 'wilcox') + theme_classic() + \n",
    "theme(axis.text.x = element_text(angle = 0)) + labs(x = c(), y = 'CD8/Treg ratio') + \n",
    "scale_x_discrete(limits = c('NR', 'R')) + Axis_themes + scale_y_continuous(expand = expansion(mult = c(0.05, 0.15))) +\n",
    "stat_summary(fun.y = median, fun.ymin = median, fun.ymax = median,\n",
    "                 geom = \"crossbar\", width = 0.5, size = .1167)\n",
    "\n",
    "g6$layers[[2]]$aes_params$textsize <- 2.1167\n",
    "g6\n",
    "\n",
    "ggsave('cd8_treg.pdf', height = 1.2, width = 1.2, useDingbats = FALSE)"
   ]
  },
  {
   "cell_type": "code",
   "execution_count": 14,
   "metadata": {},
   "outputs": [
    {
     "name": "stderr",
     "output_type": "stream",
     "text": [
      "\u001b[1m\u001b[22m`summarise()` has grouped output by 'patient'. You can override using the `.groups` argument.\n",
      "\u001b[1m\u001b[22m`summarise()` has grouped output by 'patient'. You can override using the `.groups` argument.\n",
      "Warning message:\n",
      "\"`fun.y` is deprecated. Use `fun` instead.\"\n",
      "Warning message:\n",
      "\"`fun.ymin` is deprecated. Use `fun.min` instead.\"\n",
      "Warning message:\n",
      "\"`fun.ymax` is deprecated. Use `fun.max` instead.\"\n"
     ]
    },
    {
     "data": {
      "image/png": "[encoded data removed]",
      "text/plain": [
       "plot without title"
      ]
     },
     "metadata": {
      "image/png": {
       "height": 187.5,
       "width": 180
      }
     },
     "output_type": "display_data"
    }
   ],
   "source": [
    "options(repr.plot.res = 300, repr.plot.width = 1.2, repr.plot.height = 1.25)\n",
    "\n",
    "library(Seurat)\n",
    "library(dplyr)\n",
    "library(ggplot2)\n",
    "library(ggbeeswarm)\n",
    "library(ggpubr)\n",
    "gene = 'TBX21'\n",
    "\n",
    "treg$gene = GetAssayData(treg)[gene,colnames(treg)]\n",
    "df = treg@meta.data %>% group_by(patient,response) %>% summarize(mean = mean(gene))\n",
    "\n",
    "df = treg@meta.data %>%filter(response %in% c('R', 'NR')) %>% group_by(patient,response) %>% summarize(mean = mean(HALLMARK_INTERFERON_GAMMA_RESPONSE1), n = n())\n",
    "g4 = ggplot(df, aes(x = response, y = mean)) + geom_beeswarm(cex = 7, size = .8)  + stat_compare_means(comparisons = list(c(1,2)), method.args = list(alternative = 'greater', bracket.size = .1167), tip.length = 0, label = 'p.signif', method = 'wilcox') + theme_classic() + \n",
    "theme(axis.text.x = element_text(angle = 0)) + labs(x = c(), y = 'Mean TBX21') + \n",
    "scale_x_discrete(limits = c('NR', 'R')) + Axis_themes + scale_y_continuous(expand = expansion(mult = c(0.05, 0.15))) +\n",
    "stat_summary(fun.y = median, fun.ymin = median, fun.ymax = median,\n",
    "                 geom = \"crossbar\", width = 0.5, size = .1167)\n",
    "\n",
    "g4$layers[[2]]$aes_params$textsize <- 2.1167\n",
    "g4\n",
    "\n",
    "ggsave('treg_tbet.pdf', height = 1.2, width = 1.2, useDingbats = FALSE)"
   ]
  }
 ],
 "metadata": {
  "kernelspec": {
   "display_name": "Rv4",
   "language": "R",
   "name": "ir4"
  },
  "language_info": {
   "codemirror_mode": "r",
   "file_extension": ".r",
   "mimetype": "text/x-r-source",
   "name": "R",
   "pygments_lexer": "r",
   "version": "4.1.0"
  }
 },
 "nbformat": 4,
 "nbformat_minor": 4
}
