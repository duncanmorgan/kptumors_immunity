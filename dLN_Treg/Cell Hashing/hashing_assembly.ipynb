{
 "cells": [
  {
   "cell_type": "code",
   "execution_count": 1,
   "metadata": {},
   "outputs": [
    {
     "name": "stderr",
     "output_type": "stream",
     "text": [
      "Loading required package: ggplot2\n",
      "\n",
      "Registered S3 methods overwritten by 'tibble':\n",
      "  method     from  \n",
      "  format.tbl pillar\n",
      "  print.tbl  pillar\n",
      "\n",
      "Loading required package: cowplot\n",
      "\n",
      "\n",
      "********************************************************\n",
      "\n",
      "Note: As of version 1.0.0, cowplot does not change the\n",
      "\n",
      "  default ggplot2 theme anymore. To recover the previous\n",
      "\n",
      "  behavior, execute:\n",
      "  theme_set(theme_cowplot())\n",
      "\n",
      "********************************************************\n",
      "\n",
      "\n",
      "Loading required package: Matrix\n",
      "\n",
      "\n",
      "Attaching package: 'dplyr'\n",
      "\n",
      "\n",
      "The following objects are masked from 'package:stats':\n",
      "\n",
      "    filter, lag\n",
      "\n",
      "\n",
      "The following objects are masked from 'package:base':\n",
      "\n",
      "    intersect, setdiff, setequal, union\n",
      "\n",
      "\n",
      "See arrow_info() for available features\n",
      "\n",
      "\n",
      "Attaching package: 'arrow'\n",
      "\n",
      "\n",
      "The following objects are masked from 'package:feather':\n",
      "\n",
      "    read_feather, write_feather\n",
      "\n",
      "\n",
      "The following object is masked from 'package:utils':\n",
      "\n",
      "    timestamp\n",
      "\n",
      "\n",
      "reading in raw data\n",
      "\n"
     ]
    },
    {
     "data": {
      "text/plain": [
       "An object of class seurat in project SeuratProject \n",
       " 14458 genes across 36010 samples."
      ]
     },
     "metadata": {},
     "output_type": "display_data"
    }
   ],
   "source": [
    "source(\"../../functions.R\")\n",
    "library(arrow)\n",
    "name = '../treg_ln1'\n",
    "rawfile = '../allcellsall.feather'\n",
    "\n",
    " normdata = read_feather(paste0(name, \".feather\")) %>% as.data.frame()\n",
    "    message(\"reading in raw data\")\n",
    "    rawdata = read_feather(rawfile) %>% as.data.frame()\n",
    "    rownames(rawdata) = rawdata$Gene\n",
    "    id = which(colnames(rawdata) == \"Gene\")\n",
    "    rawdata = rawdata[, -id]\n",
    "    rawdata = rawdata[, colnames(rawdata) %in% colnames(normdata)]\n",
    "    metadata = read.csv(paste0(name, \"_meta.txt\"), row.names = 1, \n",
    "        stringsAsFactors = FALSE)\n",
    "    seurat = CreateSeuratObject(rawdata)\n",
    "    seurat@meta.data = metadata\n",
    "    seurat"
   ]
  },
  {
   "cell_type": "code",
   "execution_count": 2,
   "metadata": {},
   "outputs": [],
   "source": [
    "saveRDS(seurat, 'prehashing_seurat.RDS')"
   ]
  }
 ],
 "metadata": {
  "kernelspec": {
   "display_name": "R",
   "language": "R",
   "name": "ir"
  },
  "language_info": {
   "codemirror_mode": "r",
   "file_extension": ".r",
   "mimetype": "text/x-r-source",
   "name": "R",
   "pygments_lexer": "r",
   "version": "3.6.3"
  }
 },
 "nbformat": 4,
 "nbformat_minor": 2
}
